{
 "cells": [
  {
   "cell_type": "code",
   "execution_count": 1,
   "metadata": {},
   "outputs": [],
   "source": [
    "import pandas as pd\n",
    "import numpy as np\n",
    "import matplotlib.pyplot as plt\n",
    "import seaborn as sns\n",
    "from scipy.stats import spearmanr"
   ]
  },
  {
   "cell_type": "code",
   "execution_count": 2,
   "metadata": {},
   "outputs": [],
   "source": [
    "qasper_aligned = pd.read_csv(\"/home/ubuntu/iris_repos/llm_evaluation_thesis/analysis/computing scores/FULL ALIGNED/qasper_aligned_iris.csv\")\n",
    "qasper_aligned_100 = pd.read_csv(\"/home/ubuntu/iris_repos/llm_evaluation_thesis/analysis/computing scores/FULL ALIGNED/qasper_aligned_iris_100.csv\")\n",
    "qasper_shuffled = pd.read_csv(\"/home/ubuntu/iris_repos/llm_evaluation_thesis/analysis/computing scores/FULL SHUFFLED/qasper_shuffled_iris.csv\")\n",
    "qasper_shuffled_100 = pd.read_csv(\"/home/ubuntu/iris_repos/llm_evaluation_thesis/analysis/computing scores/FULL SHUFFLED/qasper_shuffled_iris_100.csv\")\n",
    "qasper_8b = pd.read_csv(\"/home/ubuntu/iris_repos/llm_evaluation_thesis/analysis/computing scores/Qasper 8-70b/qasper_8b.csv\")\n",
    "qasper_8b_100 = pd.read_csv(\"/home/ubuntu/iris_repos/llm_evaluation_thesis/analysis/computing scores/Qasper 8-70b/qasper_8b_100.csv\")\n",
    "qasper_70b = pd.read_csv(\"/home/ubuntu/iris_repos/llm_evaluation_thesis/analysis/computing scores/Qasper 8-70b/qasper_70b.csv\")\n",
    "qasper_70b_100 = pd.read_csv(\"/home/ubuntu/iris_repos/llm_evaluation_thesis/analysis/computing scores/Qasper 8-70b/qasper_70b_100.csv\")\n",
    "qasa_aligned = pd.read_csv(\"/home/ubuntu/iris_repos/llm_evaluation_thesis/analysis/computing scores/FULL ALIGNED/qasa_aligned_iris.csv\")\n",
    "qasa_aligned_100 = pd.read_csv(\"/home/ubuntu/iris_repos/llm_evaluation_thesis/analysis/computing scores/FULL ALIGNED/qasa_aligned_iris_100.csv\")\n",
    "qasa_shuffled = pd.read_csv(\"/home/ubuntu/iris_repos/llm_evaluation_thesis/analysis/computing scores/FULL SHUFFLED/qasa_shuffled_iris.csv\")\n",
    "qasa_shuffled_100 = pd.read_csv(\"/home/ubuntu/iris_repos/llm_evaluation_thesis/analysis/computing scores/FULL SHUFFLED/qasa_shuffled_iris_100.csv\")\n",
    "qasa_8b = pd.read_csv(\"/home/ubuntu/iris_repos/llm_evaluation_thesis/analysis/computing scores/Qasa 8-70b/qasa_8b.csv\")\n",
    "qasa_8b_100 = pd.read_csv(\"/home/ubuntu/iris_repos/llm_evaluation_thesis/analysis/computing scores/Qasa 8-70b/qasa_8b_100.csv\")\n",
    "qasa_70b = pd.read_csv(\"/home/ubuntu/iris_repos/llm_evaluation_thesis/analysis/computing scores/Qasa 8-70b/qasa_70b.csv\")\n",
    "qasa_70b_100 = pd.read_csv(\"/home/ubuntu/iris_repos/llm_evaluation_thesis/analysis/computing scores/Qasa 8-70b/qasa_70b_100.csv\")"
   ]
  },
  {
   "cell_type": "code",
   "execution_count": 3,
   "metadata": {},
   "outputs": [],
   "source": [
    "def length_analysis(metric, group1, group2, group3, group4, group5, group6, group7, group8):\n",
    "    # Combine all relevant data into a single DataFrame\n",
    "    combined_df = pd.concat(\n",
    "        [\n",
    "            group1['iris_answer'].astype(str).apply(lambda x: len(x.split())).to_frame(name='length'),  # Calculate token length\n",
    "            group1[[metric]].rename(columns={metric: '1'}), \n",
    "            group2[[metric]].rename(columns={metric: '2'}),\n",
    "            group3[[metric]].rename(columns={metric: '3'}),\n",
    "            group4[[metric]].rename(columns={metric: '4'}),\n",
    "            group5[[metric]].rename(columns={metric: '5'}),\n",
    "            group6[[metric]].rename(columns={metric: '6'}),\n",
    "            group7[[metric]].rename(columns={metric: '7'}),\n",
    "            group8[[metric]].rename(columns={metric: '8'})\n",
    "        ],\n",
    "        axis=1\n",
    "    )\n",
    "    \n",
    "    # Melt the DataFrame to combine all scores into one column for analysis\n",
    "    melted_df = combined_df.melt(id_vars=['length'], value_vars=combined_df.columns[1:], var_name='score_type', value_name='score')\n",
    "    \n",
    "    # Remove rows with NaN or infinite values\n",
    "    melted_df = melted_df.replace([np.inf, -np.inf], np.nan).dropna(subset=['length', 'score'])\n",
    "    \n",
    "    # Calculate Pearson correlation and p-value\n",
    "    spearman_corr, p_value = spearmanr(melted_df['length'], melted_df['score'])\n",
    "    \n",
    "    # Print the results\n",
    "    print(f\"Combined Spearman correlation between length and scores: {pearson_corr:.2f}\")\n",
    "    print(f\"P-value for the correlation significance: {p_value:.4f}\")\n",
    "    \n",
    "    return spearman_corr, p_value\n",
    "      "
   ]
  },
  {
   "cell_type": "code",
   "execution_count": 4,
   "metadata": {},
   "outputs": [],
   "source": [
    "qasper_aligned['Wisdm'] = pd.to_numeric(qasper_aligned['Wisdm'], errors='coerce')"
   ]
  },
  {
   "cell_type": "code",
   "execution_count": 5,
   "metadata": {},
   "outputs": [],
   "source": [
    "qasa_aligned['Prometheus'] = qasa_aligned['Prometheus'].astype('float64')"
   ]
  },
  {
   "cell_type": "code",
   "execution_count": 6,
   "metadata": {},
   "outputs": [
    {
     "name": "stdout",
     "output_type": "stream",
     "text": [
      "Combined Spearman correlation between length and scores: -0.03\n",
      "P-value for the correlation significance: 0.0047\n"
     ]
    }
   ],
   "source": [
    "bleu = length_analysis( 'Bleu',\n",
    "    qasper_aligned, qasper_shuffled, qasper_8b, qasper_70b,\n",
    "    qasa_aligned, qasa_shuffled, qasa_8b, qasa_70b\n",
    ")"
   ]
  },
  {
   "cell_type": "code",
   "execution_count": 7,
   "metadata": {},
   "outputs": [
    {
     "name": "stdout",
     "output_type": "stream",
     "text": [
      "Combined Spearman correlation between length and scores: -0.00\n",
      "P-value for the correlation significance: 0.7064\n"
     ]
    }
   ],
   "source": [
    "rouge1 = length_analysis( 'Rouge1',\n",
    "    qasper_aligned, qasper_shuffled, qasper_8b, qasper_70b,\n",
    "    qasa_aligned, qasa_shuffled, qasa_8b, qasa_70b\n",
    ")"
   ]
  },
  {
   "cell_type": "code",
   "execution_count": 8,
   "metadata": {},
   "outputs": [
    {
     "name": "stdout",
     "output_type": "stream",
     "text": [
      "Combined Spearman correlation between length and scores: 0.02\n",
      "P-value for the correlation significance: 0.0654\n"
     ]
    }
   ],
   "source": [
    "rouge2 = length_analysis( 'Rouge2',\n",
    "    qasper_aligned, qasper_shuffled, qasper_8b, qasper_70b,\n",
    "    qasa_aligned, qasa_shuffled, qasa_8b, qasa_70b\n",
    ")"
   ]
  },
  {
   "cell_type": "code",
   "execution_count": 9,
   "metadata": {},
   "outputs": [
    {
     "name": "stdout",
     "output_type": "stream",
     "text": [
      "Combined Spearman correlation between length and scores: 0.00\n",
      "P-value for the correlation significance: 0.8616\n"
     ]
    }
   ],
   "source": [
    "rougel = length_analysis( 'RougeL',\n",
    "    qasper_aligned, qasper_shuffled, qasper_8b, qasper_70b,\n",
    "    qasa_aligned, qasa_shuffled, qasa_8b, qasa_70b\n",
    ")"
   ]
  },
  {
   "cell_type": "code",
   "execution_count": 10,
   "metadata": {},
   "outputs": [
    {
     "name": "stdout",
     "output_type": "stream",
     "text": [
      "Combined Spearman correlation between length and scores: -0.01\n",
      "P-value for the correlation significance: 0.2871\n"
     ]
    }
   ],
   "source": [
    "meteor = length_analysis( 'Meteor',\n",
    "    qasper_aligned, qasper_shuffled, qasper_8b, qasper_70b,\n",
    "    qasa_aligned, qasa_shuffled, qasa_8b, qasa_70b\n",
    ")"
   ]
  },
  {
   "cell_type": "code",
   "execution_count": 11,
   "metadata": {},
   "outputs": [
    {
     "name": "stdout",
     "output_type": "stream",
     "text": [
      "Combined Spearman correlation between length and scores: -0.05\n",
      "P-value for the correlation significance: 0.0000\n"
     ]
    }
   ],
   "source": [
    "chrf = length_analysis( 'Chrf',\n",
    "    qasper_aligned, qasper_shuffled, qasper_8b, qasper_70b,\n",
    "    qasa_aligned, qasa_shuffled, qasa_8b, qasa_70b\n",
    ")"
   ]
  },
  {
   "cell_type": "code",
   "execution_count": 12,
   "metadata": {},
   "outputs": [],
   "source": [
    "qasper_8b = qasper_8b.rename(columns={'Chrfplus': 'ChrfPlus'})\n",
    "qasper_70b = qasper_70b.rename(columns={'Chrfplus': 'ChrfPlus'})\n",
    "qasa_70b = qasa_70b.rename(columns={'Chrfplus': 'ChrfPlus'})"
   ]
  },
  {
   "cell_type": "code",
   "execution_count": 13,
   "metadata": {},
   "outputs": [
    {
     "name": "stdout",
     "output_type": "stream",
     "text": [
      "Combined Spearman correlation between length and scores: -0.05\n",
      "P-value for the correlation significance: 0.0001\n"
     ]
    }
   ],
   "source": [
    "chrfplus = length_analysis( 'ChrfPlus',\n",
    "    qasper_aligned, qasper_shuffled, qasper_8b, qasper_70b,\n",
    "    qasa_aligned, qasa_shuffled, qasa_8b, qasa_70b\n",
    ")"
   ]
  },
  {
   "cell_type": "code",
   "execution_count": 14,
   "metadata": {},
   "outputs": [
    {
     "name": "stdout",
     "output_type": "stream",
     "text": [
      "Combined Spearman correlation between length and scores: -0.01\n",
      "P-value for the correlation significance: 0.4917\n"
     ]
    }
   ],
   "source": [
    "ter = length_analysis( 'Ter',\n",
    "    qasper_aligned, qasper_shuffled, qasper_8b, qasper_70b,\n",
    "    qasa_aligned, qasa_shuffled, qasa_8b, qasa_70b\n",
    ")"
   ]
  },
  {
   "cell_type": "code",
   "execution_count": 15,
   "metadata": {},
   "outputs": [
    {
     "name": "stdout",
     "output_type": "stream",
     "text": [
      "Combined Spearman correlation between length and scores: -0.01\n",
      "P-value for the correlation significance: 0.4844\n"
     ]
    }
   ],
   "source": [
    "bert = length_analysis( 'Bert',\n",
    "    qasper_aligned, qasper_shuffled, qasper_8b, qasper_70b,\n",
    "    qasa_aligned, qasa_shuffled, qasa_8b, qasa_70b\n",
    ")"
   ]
  },
  {
   "cell_type": "code",
   "execution_count": 16,
   "metadata": {},
   "outputs": [
    {
     "name": "stdout",
     "output_type": "stream",
     "text": [
      "Combined Spearman correlation between length and scores: -0.00\n",
      "P-value for the correlation significance: 0.7326\n"
     ]
    }
   ],
   "source": [
    "wms = length_analysis( 'WMS',\n",
    "    qasper_aligned, qasper_shuffled, qasper_8b, qasper_70b,\n",
    "    qasa_aligned, qasa_shuffled, qasa_8b, qasa_70b\n",
    ")"
   ]
  },
  {
   "cell_type": "code",
   "execution_count": 17,
   "metadata": {},
   "outputs": [
    {
     "name": "stdout",
     "output_type": "stream",
     "text": [
      "Combined Spearman correlation between length and scores: -0.02\n",
      "P-value for the correlation significance: 0.1756\n"
     ]
    }
   ],
   "source": [
    "sms = length_analysis( 'SMS',\n",
    "    qasper_aligned, qasper_shuffled, qasper_8b, qasper_70b,\n",
    "    qasa_aligned, qasa_shuffled, qasa_8b, qasa_70b\n",
    ")"
   ]
  },
  {
   "cell_type": "code",
   "execution_count": 18,
   "metadata": {},
   "outputs": [
    {
     "name": "stdout",
     "output_type": "stream",
     "text": [
      "Combined Spearman correlation between length and scores: 0.02\n",
      "P-value for the correlation significance: 0.1705\n"
     ]
    }
   ],
   "source": [
    "wisdm = length_analysis( 'Wisdm',\n",
    "    qasper_aligned, qasper_shuffled, qasper_8b, qasper_70b,\n",
    "    qasa_aligned, qasa_shuffled, qasa_8b, qasa_70b\n",
    ")"
   ]
  },
  {
   "cell_type": "code",
   "execution_count": 19,
   "metadata": {},
   "outputs": [
    {
     "name": "stdout",
     "output_type": "stream",
     "text": [
      "Combined Spearman correlation between length and scores: 0.01\n",
      "P-value for the correlation significance: 0.7380\n"
     ]
    }
   ],
   "source": [
    "bleurt = length_analysis('Bleurt',\n",
    "    qasper_aligned_100, qasper_shuffled_100, qasper_8b_100, qasper_70b_100,\n",
    "    qasa_aligned_100, qasa_shuffled_100, qasa_8b_100, qasa_70b_100\n",
    ")"
   ]
  },
  {
   "cell_type": "code",
   "execution_count": 20,
   "metadata": {},
   "outputs": [
    {
     "name": "stdout",
     "output_type": "stream",
     "text": [
      "Combined Spearman correlation between length and scores: 0.02\n",
      "P-value for the correlation significance: 0.6480\n"
     ]
    }
   ],
   "source": [
    "bem = length_analysis( 'BEM',\n",
    "    qasper_aligned_100, qasper_shuffled_100, qasper_8b_100, qasper_70b_100,\n",
    "    qasa_aligned_100, qasa_shuffled_100, qasa_8b_100, qasa_70b_100\n",
    ")"
   ]
  },
  {
   "cell_type": "code",
   "execution_count": 21,
   "metadata": {},
   "outputs": [
    {
     "name": "stdout",
     "output_type": "stream",
     "text": [
      "Combined Spearman correlation between length and scores: -0.04\n",
      "P-value for the correlation significance: 0.2705\n"
     ]
    }
   ],
   "source": [
    "prometheus = length_analysis( 'Prometheus',\n",
    "    qasper_aligned_100, qasper_shuffled_100, qasper_8b_100, qasper_70b_100,\n",
    "    qasa_aligned, qasa_shuffled_100, qasa_8b_100, qasa_70b_100\n",
    ")"
   ]
  },
  {
   "cell_type": "code",
   "execution_count": 22,
   "metadata": {},
   "outputs": [
    {
     "name": "stdout",
     "output_type": "stream",
     "text": [
      "Combined Spearman correlation between length and scores: 0.00\n",
      "P-value for the correlation significance: 0.9166\n"
     ]
    }
   ],
   "source": [
    "bart = length_analysis( 'Bart',\n",
    "    qasper_aligned, qasper_shuffled, qasper_8b_100, qasper_70b_100,\n",
    "    qasa_aligned, qasa_shuffled, qasa_8b_100, qasa_70b_100\n",
    ")"
   ]
  },
  {
   "cell_type": "code",
   "execution_count": 23,
   "metadata": {},
   "outputs": [
    {
     "name": "stdout",
     "output_type": "stream",
     "text": [
      "Combined Spearman correlation between length and scores: 0.04\n",
      "P-value for the correlation significance: 0.2876\n"
     ]
    }
   ],
   "source": [
    "llm = length_analysis('LLM',\n",
    "    qasper_aligned_100, qasper_shuffled_100, qasper_8b_100, qasper_70b_100,\n",
    "    qasa_aligned_100, qasa_shuffled_100, qasa_8b_100, qasa_70b_100\n",
    ")"
   ]
  },
  {
   "cell_type": "code",
   "execution_count": 24,
   "metadata": {},
   "outputs": [],
   "source": [
    "qasper_shuffled_100 = qasper_shuffled_100.rename(columns={'Faithfullnes': 'Faithfullness'})"
   ]
  },
  {
   "cell_type": "code",
   "execution_count": 25,
   "metadata": {},
   "outputs": [
    {
     "name": "stdout",
     "output_type": "stream",
     "text": [
      "Combined Spearman correlation between length and scores: 0.00\n",
      "P-value for the correlation significance: 0.8435\n"
     ]
    }
   ],
   "source": [
    "faithfullness = length_analysis('Faithfullness',\n",
    "    qasper_aligned, qasper_shuffled_100, qasper_8b_100, qasper_70b_100,\n",
    "    qasa_aligned, qasa_shuffled, qasa_8b_100, qasa_70b_100\n",
    ")"
   ]
  },
  {
   "cell_type": "code",
   "execution_count": 26,
   "metadata": {},
   "outputs": [
    {
     "name": "stdout",
     "output_type": "stream",
     "text": [
      "Combined Spearman correlation between length and scores: 0.00\n",
      "P-value for the correlation significance: 0.9660\n"
     ]
    }
   ],
   "source": [
    "relevancy = length_analysis('Relevancy',\n",
    "    qasper_aligned, qasper_shuffled_100, qasper_8b_100, qasper_70b_100,\n",
    "    qasa_aligned, qasa_shuffled, qasa_8b_100, qasa_70b_100\n",
    ")"
   ]
  },
  {
   "cell_type": "code",
   "execution_count": 27,
   "metadata": {},
   "outputs": [
    {
     "name": "stdout",
     "output_type": "stream",
     "text": [
      "Combined Spearman correlation between length and scores: 0.03\n",
      "P-value for the correlation significance: 0.3400\n"
     ]
    }
   ],
   "source": [
    "correctness = length_analysis('Correctness',\n",
    "    qasper_aligned_100, qasper_shuffled_100, qasper_8b_100, qasper_70b_100,\n",
    "    qasa_aligned_100, qasa_shuffled_100, qasa_8b_100, qasa_70b_100\n",
    ")"
   ]
  },
  {
   "cell_type": "code",
   "execution_count": 28,
   "metadata": {},
   "outputs": [
    {
     "name": "stdout",
     "output_type": "stream",
     "text": [
      "Combined Spearman correlation between length and scores: -0.02\n",
      "P-value for the correlation significance: 0.6499\n"
     ]
    }
   ],
   "source": [
    "rsim = length_analysis('RSim',\n",
    "    qasper_aligned_100, qasper_shuffled_100, qasper_8b_100, qasper_70b_100,\n",
    "    qasa_aligned_100, qasa_shuffled_100, qasa_8b_100, qasa_70b_100\n",
    ")"
   ]
  },
  {
   "cell_type": "code",
   "execution_count": 29,
   "metadata": {},
   "outputs": [
    {
     "name": "stdout",
     "output_type": "stream",
     "text": [
      "Combined Spearman correlation between length and scores: -0.07\n",
      "P-value for the correlation significance: 0.0562\n"
     ]
    }
   ],
   "source": [
    "consistency = length_analysis('Consistency',\n",
    "    qasper_aligned_100, qasper_shuffled_100, qasper_8b_100, qasper_70b_100,\n",
    "    qasa_aligned_100, qasa_shuffled_100, qasa_8b_100, qasa_70b_100\n",
    ")"
   ]
  },
  {
   "cell_type": "code",
   "execution_count": 30,
   "metadata": {},
   "outputs": [
    {
     "name": "stdout",
     "output_type": "stream",
     "text": [
      "Combined Spearman correlation between length and scores: -0.01\n",
      "P-value for the correlation significance: 0.6867\n"
     ]
    }
   ],
   "source": [
    "tsim = length_analysis('TSim',\n",
    "    qasper_aligned_100, qasper_shuffled_100, qasper_8b_100, qasper_70b_100,\n",
    "    qasa_aligned_100, qasa_shuffled_100, qasa_8b_100, qasa_70b_100\n",
    ")"
   ]
  }
 ],
 "metadata": {
  "kernelspec": {
   "display_name": "Python 3",
   "language": "python",
   "name": "python3"
  },
  "language_info": {
   "codemirror_mode": {
    "name": "ipython",
    "version": 3
   },
   "file_extension": ".py",
   "mimetype": "text/x-python",
   "name": "python",
   "nbconvert_exporter": "python",
   "pygments_lexer": "ipython3",
   "version": "3.10.12"
  }
 },
 "nbformat": 4,
 "nbformat_minor": 2
}
