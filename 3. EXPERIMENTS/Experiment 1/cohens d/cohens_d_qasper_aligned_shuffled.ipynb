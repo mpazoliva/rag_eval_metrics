{
 "cells": [
  {
   "cell_type": "code",
   "execution_count": 11,
   "metadata": {},
   "outputs": [],
   "source": [
    "import pandas as pd\n",
    "import numpy as np"
   ]
  },
  {
   "cell_type": "code",
   "execution_count": 12,
   "metadata": {},
   "outputs": [],
   "source": [
    "aligned = pd.read_csv(\"/home/ubuntu/iris_repos/llm_evaluation_thesis/analysis/computing scores/FULL ALIGNED/qasper_aligned_iris_100.csv\")\n",
    "shuffled = pd.read_csv(\"/home/ubuntu/iris_repos/llm_evaluation_thesis/analysis/computing scores/FULL SHUFFLED/qasper_shuffled_iris_100.csv\")"
   ]
  },
  {
   "cell_type": "code",
   "execution_count": 13,
   "metadata": {},
   "outputs": [],
   "source": [
    "aligned['Prometheus'] = aligned['Prometheus'].astype('float64')"
   ]
  },
  {
   "cell_type": "code",
   "execution_count": 14,
   "metadata": {},
   "outputs": [],
   "source": [
    "aligned['Wisdm'] = pd.to_numeric(aligned['Wisdm'], errors='coerce')"
   ]
  },
  {
   "cell_type": "code",
   "execution_count": 15,
   "metadata": {},
   "outputs": [],
   "source": [
    "shuffled.rename(columns={'Faithfullnes': 'Faithfullness'}, inplace=True)"
   ]
  },
  {
   "cell_type": "code",
   "execution_count": 16,
   "metadata": {},
   "outputs": [
    {
     "data": {
      "text/plain": [
       "Index(['Unnamed: 0', 'question', 'context', 'correct_answer', 'iris_answer',\n",
       "       'Rouge1', 'Rouge2', 'RougeL', 'Bleu', 'Chrf', 'ChrfPlus', 'Meteor',\n",
       "       'Ter', 'Bert', 'WMS', 'SMS', 'Wisdm', 'Bleurt', 'BEM', 'Bart',\n",
       "       'Prometheus', 'Faithfullness', 'Relevancy', 'Correctness', 'RSim',\n",
       "       'Consistency', 'TSim', 'LLM'],\n",
       "      dtype='object')"
      ]
     },
     "execution_count": 16,
     "metadata": {},
     "output_type": "execute_result"
    }
   ],
   "source": [
    "aligned.columns"
   ]
  },
  {
   "cell_type": "code",
   "execution_count": 17,
   "metadata": {},
   "outputs": [
    {
     "data": {
      "text/plain": [
       "Index(['Unnamed: 0', 'question', 'context', 'correct_answer', 'iris_answer',\n",
       "       'Rouge1', 'Rouge2', 'RougeL', 'Bleu', 'Chrf', 'ChrfPlus', 'Meteor',\n",
       "       'Ter', 'Bert', 'WMS', 'SMS', 'Wisdm', 'Bleurt', 'BEM', 'Bart',\n",
       "       'Prometheus', 'Faithfullness', 'Relevancy', 'Correctness', 'RSim',\n",
       "       'Consistency', 'TSim', 'LLM'],\n",
       "      dtype='object')"
      ]
     },
     "execution_count": 17,
     "metadata": {},
     "output_type": "execute_result"
    }
   ],
   "source": [
    "shuffled.columns"
   ]
  },
  {
   "cell_type": "code",
   "execution_count": 18,
   "metadata": {},
   "outputs": [],
   "source": [
    "def cohen_d(group1, group2):\n",
    "    # Calculate the means of the groups\n",
    "    mean1 = group1.mean()\n",
    "    mean2 = group2.mean()\n",
    "\n",
    "    # Calculate the variance of the groups\n",
    "    var1 = group1.var()\n",
    "    var2 = group2.var()\n",
    "\n",
    "    # Calculate the number of observations in each group\n",
    "    n1, n2 = len(group1), len(group2)\n",
    "\n",
    "    # Calculate the pooled standard deviation\n",
    "    pooled_std = np.sqrt((var1 * (n1 - 1) + var2 * (n2 - 1)) / (n1 + n2 - 2))\n",
    "\n",
    "    # Calculate Cohen's d\n",
    "    d = (mean1 - mean2) / pooled_std\n",
    "    return d"
   ]
  },
  {
   "cell_type": "code",
   "execution_count": 19,
   "metadata": {},
   "outputs": [],
   "source": [
    "bleu = cohen_d(aligned['Bleu'], shuffled['Bleu'])\n",
    "rouge1 = cohen_d(aligned['Rouge1'], shuffled['Rouge1'])\n",
    "rouge2 = cohen_d(aligned['Rouge2'], shuffled['Rouge2'])\n",
    "rougel = cohen_d(aligned['RougeL'], shuffled['RougeL'])\n",
    "chrf = cohen_d(aligned['Chrf'], shuffled['Chrf'])\n",
    "chrfplus = cohen_d(aligned['ChrfPlus'], shuffled['ChrfPlus'])\n",
    "ter = cohen_d(aligned['Ter'], shuffled['Ter'])\n",
    "meteor = cohen_d(aligned['Meteor'], shuffled['Meteor'])\n",
    "bert = cohen_d(aligned['Bert'], shuffled['Bert'])\n",
    "wms = cohen_d(aligned['WMS'], shuffled['WMS'])\n",
    "sms = cohen_d(aligned['SMS'], shuffled['SMS'])\n",
    "wisdm = cohen_d(aligned['Wisdm'], shuffled['Wisdm'])\n",
    "bleurt = cohen_d(aligned['Bleurt'], shuffled['Bleurt'])\n",
    "bem = cohen_d(aligned['BEM'], shuffled['BEM'])\n",
    "bart = cohen_d(aligned['Bart'], shuffled['Bart'])\n",
    "prometheus = cohen_d(aligned['Prometheus'], shuffled['Prometheus'])\n",
    "faithfullness = cohen_d(aligned['Faithfullness'], shuffled['Faithfullness'])\n",
    "relevancy = cohen_d(aligned['Relevancy'], shuffled['Relevancy'])\n",
    "correctness = cohen_d(aligned['Correctness'], shuffled['Correctness'])\n",
    "rsimilarity = cohen_d(aligned['RSim'], shuffled['RSim'])\n",
    "consistency = cohen_d(aligned['Consistency'], shuffled['Consistency'])\n",
    "tsimilarity = cohen_d(aligned['TSim'], shuffled['TSim'])\n",
    "LLM = cohen_d(aligned['LLM'], shuffled['LLM'])\n"
   ]
  },
  {
   "cell_type": "code",
   "execution_count": 20,
   "metadata": {},
   "outputs": [
    {
     "name": "stdout",
     "output_type": "stream",
     "text": [
      "-0.7241853692715822\n",
      "0.07138802501470305\n",
      "0.5628691078871374\n",
      "1.2784402343777932\n",
      "-0.2580202711708198\n",
      "-0.26476910316521646\n",
      "1.2734751403455444\n",
      "1.1688674257650287\n",
      "1.9912186153652747\n",
      "1.0215067706083762\n",
      "2.203993291885642\n",
      "1.325977035579388\n",
      "1.5689327775957453\n",
      "1.6863151144901973\n",
      "4.252606760022147\n",
      "0.6133806632022442\n",
      "5.542412694619568\n",
      "1.8981910618757056\n",
      "1.016572188243168\n",
      "0.7367564411903239\n",
      "1.7490299250499053\n",
      "2.3715662664038306\n",
      "2.371652791865305\n"
     ]
    }
   ],
   "source": [
    "print(bleu)\n",
    "print(rouge1)\n",
    "print(rouge2)\n",
    "print(rougel)\n",
    "print(chrf)\n",
    "print(chrfplus)\n",
    "print(meteor)\n",
    "print(ter)\n",
    "print(bert)\n",
    "print(wms)\n",
    "print(sms)\n",
    "print(wisdm)\n",
    "print(bleurt)\n",
    "print(bem)\n",
    "print(prometheus)\n",
    "print(bart)\n",
    "print(LLM)\n",
    "print(faithfullness)\n",
    "print(relevancy)\n",
    "print(correctness)\n",
    "print(rsimilarity)\n",
    "print(consistency)\n",
    "print(tsimilarity)\n"
   ]
  }
 ],
 "metadata": {
  "kernelspec": {
   "display_name": "Python 3",
   "language": "python",
   "name": "python3"
  },
  "language_info": {
   "codemirror_mode": {
    "name": "ipython",
    "version": 3
   },
   "file_extension": ".py",
   "mimetype": "text/x-python",
   "name": "python",
   "nbconvert_exporter": "python",
   "pygments_lexer": "ipython3",
   "version": "3.10.12"
  }
 },
 "nbformat": 4,
 "nbformat_minor": 2
}
