{
 "cells": [
  {
   "cell_type": "code",
   "execution_count": 9,
   "metadata": {},
   "outputs": [],
   "source": [
    "import pandas as pd\n",
    "import numpy as np"
   ]
  },
  {
   "cell_type": "code",
   "execution_count": 10,
   "metadata": {},
   "outputs": [],
   "source": [
    "aligned = pd.read_csv(\"/home/ubuntu/iris_repos/llm_evaluation_thesis/analysis/computing scores/Qasa 8-70b/qasa_70b_100.csv\")\n",
    "shuffled = pd.read_csv(\"/home/ubuntu/iris_repos/llm_evaluation_thesis/analysis/computing scores/Qasa 8-70b/qasa_8b_100.csv\")"
   ]
  },
  {
   "cell_type": "code",
   "execution_count": 11,
   "metadata": {},
   "outputs": [],
   "source": [
    "aligned.rename(columns={'Chrfplus': 'ChrfPlus'}, inplace=True)"
   ]
  },
  {
   "cell_type": "code",
   "execution_count": 12,
   "metadata": {},
   "outputs": [
    {
     "data": {
      "text/plain": [
       "Index(['Unnamed: 0.1', 'Unnamed: 0', 'question', 'correct_answer', 'context',\n",
       "       'answer_70b', 'Rouge1', 'Rouge2', 'RougeL', 'Bleu', 'Chrf', 'ChrfPlus',\n",
       "       'Meteor', 'Ter', 'Bert', 'WMS', 'SMS', 'Wisdm', 'Bart', 'BEM',\n",
       "       'Prometheus', 'Consistency', 'TSim', 'Faithfullness', 'Relevancy',\n",
       "       'Correctness', 'RSim', 'LLM', 'Bleurt'],\n",
       "      dtype='object')"
      ]
     },
     "execution_count": 12,
     "metadata": {},
     "output_type": "execute_result"
    }
   ],
   "source": [
    "aligned.columns"
   ]
  },
  {
   "cell_type": "code",
   "execution_count": 13,
   "metadata": {},
   "outputs": [
    {
     "data": {
      "text/plain": [
       "Index(['Unnamed: 0.1', 'Unnamed: 0', 'question', 'correct_answer', 'context',\n",
       "       'answer_8b', 'Rouge1', 'Rouge2', 'RougeL', 'Bleu', 'Chrf', 'ChrfPlus',\n",
       "       'Meteor', 'Ter', 'Bert', 'WMS', 'SMS', 'Wisdm', 'Bart', 'BEM',\n",
       "       'Prometheus', 'Consistency', 'TSim', 'Faithfullness', 'Relevancy',\n",
       "       'Correctness', 'RSim', 'LLM', 'Bleurt'],\n",
       "      dtype='object')"
      ]
     },
     "execution_count": 13,
     "metadata": {},
     "output_type": "execute_result"
    }
   ],
   "source": [
    "shuffled.columns"
   ]
  },
  {
   "cell_type": "code",
   "execution_count": 14,
   "metadata": {},
   "outputs": [],
   "source": [
    "def cohen_d(group1, group2):\n",
    "    # Calculate the means of the groups\n",
    "    mean1 = group1.mean()\n",
    "    mean2 = group2.mean()\n",
    "\n",
    "    # Calculate the variance of the groups\n",
    "    var1 = group1.var()\n",
    "    var2 = group2.var()\n",
    "\n",
    "    # Calculate the number of observations in each group\n",
    "    n1, n2 = len(group1), len(group2)\n",
    "\n",
    "    # Calculate the pooled standard deviation\n",
    "    pooled_std = np.sqrt((var1 * (n1 - 1) + var2 * (n2 - 1)) / (n1 + n2 - 2))\n",
    "\n",
    "    # Calculate Cohen's d\n",
    "    d = (mean1 - mean2) / pooled_std\n",
    "    return d"
   ]
  },
  {
   "cell_type": "code",
   "execution_count": 15,
   "metadata": {},
   "outputs": [],
   "source": [
    "bleu = cohen_d(aligned['Bleu'], shuffled['Bleu'])\n",
    "rouge1 = cohen_d(aligned['Rouge1'], shuffled['Rouge1'])\n",
    "rouge2 = cohen_d(aligned['Rouge2'], shuffled['Rouge2'])\n",
    "rougel = cohen_d(aligned['RougeL'], shuffled['RougeL'])\n",
    "chrf = cohen_d(aligned['Chrf'], shuffled['Chrf'])\n",
    "chrfplus = cohen_d(aligned['ChrfPlus'], shuffled['ChrfPlus'])\n",
    "ter = cohen_d(aligned['Ter'], shuffled['Ter'])\n",
    "meteor = cohen_d(aligned['Meteor'], shuffled['Meteor'])\n",
    "bert = cohen_d(aligned['Bert'], shuffled['Bert'])\n",
    "wms = cohen_d(aligned['WMS'], shuffled['WMS'])\n",
    "sms = cohen_d(aligned['SMS'], shuffled['SMS'])\n",
    "wisdm = cohen_d(aligned['Wisdm'], shuffled['Wisdm'])\n",
    "bleurt = cohen_d(aligned['Bleurt'], shuffled['Bleurt'])\n",
    "bem = cohen_d(aligned['BEM'], shuffled['BEM'])\n",
    "bart = cohen_d(aligned['Bart'], shuffled['Bart'])\n",
    "prometheus = cohen_d(aligned['Prometheus'], shuffled['Prometheus'])\n",
    "faithfullness = cohen_d(aligned['Faithfullness'], shuffled['Faithfullness'])\n",
    "relevancy = cohen_d(aligned['Relevancy'], shuffled['Relevancy'])\n",
    "correctness = cohen_d(aligned['Correctness'], shuffled['Correctness'])\n",
    "rsimilarity = cohen_d(aligned['RSim'], shuffled['RSim'])\n",
    "consistency = cohen_d(aligned['Consistency'], shuffled['Consistency'])\n",
    "tsimilarity = cohen_d(aligned['TSim'], shuffled['TSim'])\n",
    "LLM = cohen_d(aligned['LLM'], shuffled['LLM'])\n"
   ]
  },
  {
   "cell_type": "code",
   "execution_count": 16,
   "metadata": {},
   "outputs": [
    {
     "name": "stdout",
     "output_type": "stream",
     "text": [
      "-0.29148164521019404\n",
      "-0.42583101505506255\n",
      "-0.24903285017170185\n",
      "-0.3887379189782931\n",
      "-0.35579593407291266\n",
      "-0.3580607248126103\n",
      "-0.34035580626967715\n",
      "-0.3930650518185575\n",
      "-0.34661478769061144\n",
      "0.036430664390919756\n",
      "-0.32184647455409654\n",
      "-0.30407545327230073\n",
      "-0.10569766028474757\n",
      "-0.10569766028474757\n",
      "-0.24486117894421483\n",
      "-0.08556625874686527\n",
      "0.04366131368359768\n",
      "-0.04396119366903509\n",
      "-0.06288879687298028\n",
      "-0.15500424030284204\n",
      "-0.3352941449910336\n",
      "-0.1338307425096778\n",
      "-0.30290530182237446\n"
     ]
    }
   ],
   "source": [
    "print(bleu)\n",
    "print(rouge1)\n",
    "print(rouge2)\n",
    "print(rougel)\n",
    "print(chrf)\n",
    "print(chrfplus)\n",
    "print(meteor)\n",
    "print(ter)\n",
    "print(bert)\n",
    "print(wms)\n",
    "print(sms)\n",
    "print(wisdm)\n",
    "print(bleurt)\n",
    "print(bem)\n",
    "print(prometheus)\n",
    "print(bart)\n",
    "print(LLM)\n",
    "print(faithfullness)\n",
    "print(relevancy)\n",
    "print(correctness)\n",
    "print(rsimilarity)\n",
    "print(consistency)\n",
    "print(tsimilarity)"
   ]
  }
 ],
 "metadata": {
  "kernelspec": {
   "display_name": "Python 3",
   "language": "python",
   "name": "python3"
  },
  "language_info": {
   "codemirror_mode": {
    "name": "ipython",
    "version": 3
   },
   "file_extension": ".py",
   "mimetype": "text/x-python",
   "name": "python",
   "nbconvert_exporter": "python",
   "pygments_lexer": "ipython3",
   "version": "3.10.12"
  }
 },
 "nbformat": 4,
 "nbformat_minor": 2
}
