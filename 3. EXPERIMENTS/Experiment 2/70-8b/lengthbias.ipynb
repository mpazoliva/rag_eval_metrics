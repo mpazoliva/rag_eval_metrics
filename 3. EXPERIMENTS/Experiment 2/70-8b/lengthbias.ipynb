{
 "cells": [
  {
   "cell_type": "code",
   "execution_count": 3,
   "metadata": {},
   "outputs": [],
   "source": [
    "import pandas as pd"
   ]
  },
  {
   "cell_type": "code",
   "execution_count": 1,
   "metadata": {},
   "outputs": [],
   "source": [
    "path_qasa8b = \"/home/ubuntu/iris_repos/llm_evaluation_thesis/data/Qasa and Qasper/5. answers 8b - 70b /qasa_8b.csv\"\n",
    "path_qasa70b = \"/home/ubuntu/iris_repos/llm_evaluation_thesis/data/Qasa and Qasper/5. answers 8b - 70b /qasa_70b.csv\"\n",
    "path_qasper8b = \"/home/ubuntu/iris_repos/llm_evaluation_thesis/data/Qasa and Qasper/5. answers 8b - 70b /qasper_8b.csv\"\n",
    "path_qasper70b = \"/home/ubuntu/iris_repos/llm_evaluation_thesis/data/Qasa and Qasper/5. answers 8b - 70b /qasper_70b.csv\"\n"
   ]
  },
  {
   "cell_type": "code",
   "execution_count": 4,
   "metadata": {},
   "outputs": [],
   "source": [
    "qasa8b = pd.read_csv(path_qasa8b)\n",
    "qasa70b = pd.read_csv(path_qasa70b)\n",
    "qasper8b = pd.read_csv(path_qasper8b)\n",
    "qasper70b = pd.read_csv(path_qasper70b)"
   ]
  },
  {
   "cell_type": "code",
   "execution_count": 5,
   "metadata": {},
   "outputs": [
    {
     "data": {
      "text/plain": [
       "Index(['question', 'correct_answer', 'context', 'answer_8b'], dtype='object')"
      ]
     },
     "execution_count": 5,
     "metadata": {},
     "output_type": "execute_result"
    }
   ],
   "source": [
    "qasa8b.columns"
   ]
  },
  {
   "cell_type": "code",
   "execution_count": 6,
   "metadata": {},
   "outputs": [
    {
     "data": {
      "text/plain": [
       "Index(['question', 'correct_answer', 'context', 'answer_70b'], dtype='object')"
      ]
     },
     "execution_count": 6,
     "metadata": {},
     "output_type": "execute_result"
    }
   ],
   "source": [
    "qasa70b.columns"
   ]
  },
  {
   "cell_type": "code",
   "execution_count": 7,
   "metadata": {},
   "outputs": [
    {
     "data": {
      "text/plain": [
       "Index(['question', 'correct_answer', 'context', 'answer_8b'], dtype='object')"
      ]
     },
     "execution_count": 7,
     "metadata": {},
     "output_type": "execute_result"
    }
   ],
   "source": [
    "qasper8b.columns"
   ]
  },
  {
   "cell_type": "code",
   "execution_count": 8,
   "metadata": {},
   "outputs": [
    {
     "data": {
      "text/plain": [
       "Index(['question', 'correct_answer', 'context', 'answer_70b'], dtype='object')"
      ]
     },
     "execution_count": 8,
     "metadata": {},
     "output_type": "execute_result"
    }
   ],
   "source": [
    "qasper70b.columns"
   ]
  },
  {
   "cell_type": "code",
   "execution_count": 11,
   "metadata": {},
   "outputs": [
    {
     "name": "stdout",
     "output_type": "stream",
     "text": [
      "Average word length in qasa8b (answer_8b): 10.404118404118405\n",
      "Average word length in qasa70b (answer_70b): 8.7998712998713\n",
      "Average word length in qasper8b (answer_8b): 8.53758865248227\n",
      "Average word length in qasper70b (answer_70b): 3.5078014184397164\n"
     ]
    }
   ],
   "source": [
    "# Function to calculate the average word length of strings in a column\n",
    "def average_word_length(df, column_name):\n",
    "    # Calculate word count for each string in the column\n",
    "    word_lengths = df[column_name].astype(str).apply(lambda x: len(x.split()))\n",
    "    # Return the average word count\n",
    "    return word_lengths.mean()\n",
    "\n",
    "# Calculate average word lengths for each relevant column\n",
    "avg_qasa8b = average_word_length(qasa8b, 'answer_8b')\n",
    "avg_qasa70b = average_word_length(qasa70b, 'answer_70b')\n",
    "avg_qasper8b = average_word_length(qasper8b, 'answer_8b')\n",
    "avg_qasper70b = average_word_length(qasper70b, 'answer_70b')\n",
    "\n",
    "# Print the results\n",
    "print(f\"Average word length in qasa8b (answer_8b): {avg_qasa8b}\")\n",
    "print(f\"Average word length in qasa70b (answer_70b): {avg_qasa70b}\")\n",
    "print(f\"Average word length in qasper8b (answer_8b): {avg_qasper8b}\")\n",
    "print(f\"Average word length in qasper70b (answer_70b): {avg_qasper70b}\")\n",
    "\n"
   ]
  }
 ],
 "metadata": {
  "kernelspec": {
   "display_name": "Python 3",
   "language": "python",
   "name": "python3"
  },
  "language_info": {
   "codemirror_mode": {
    "name": "ipython",
    "version": 3
   },
   "file_extension": ".py",
   "mimetype": "text/x-python",
   "name": "python",
   "nbconvert_exporter": "python",
   "pygments_lexer": "ipython3",
   "version": "3.10.12"
  }
 },
 "nbformat": 4,
 "nbformat_minor": 2
}
