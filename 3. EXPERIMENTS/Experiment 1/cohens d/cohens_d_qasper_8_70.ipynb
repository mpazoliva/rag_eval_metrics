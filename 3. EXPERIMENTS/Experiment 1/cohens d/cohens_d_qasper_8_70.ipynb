{
 "cells": [
  {
   "cell_type": "code",
   "execution_count": 9,
   "metadata": {},
   "outputs": [],
   "source": [
    "import pandas as pd\n",
    "import numpy as np"
   ]
  },
  {
   "cell_type": "code",
   "execution_count": 10,
   "metadata": {},
   "outputs": [],
   "source": [
    "aligned = pd.read_csv(\"/home/ubuntu/iris_repos/llm_evaluation_thesis/analysis/computing scores/Qasper 8-70b/qasper_70b_100.csv\")\n",
    "shuffled = pd.read_csv(\"/home/ubuntu/iris_repos/llm_evaluation_thesis/analysis/computing scores/Qasper 8-70b/qasper_8b_100.csv\")"
   ]
  },
  {
   "cell_type": "code",
   "execution_count": 11,
   "metadata": {},
   "outputs": [],
   "source": [
    "aligned.rename(columns={'Chrfplus': 'ChrfPlus'}, inplace=True)"
   ]
  },
  {
   "cell_type": "code",
   "execution_count": 12,
   "metadata": {},
   "outputs": [
    {
     "data": {
      "text/plain": [
       "Index(['Unnamed: 0.1', 'Unnamed: 0', 'question', 'correct_answer', 'context',\n",
       "       'answer_70b', 'Rouge1', 'Rouge2', 'RougeL', 'Bleu', 'Chrf', 'ChrfPlus',\n",
       "       'Meteor', 'Ter', 'Bert', 'WMS', 'SMS', 'Wisdm', 'Bart', 'BEM',\n",
       "       'Prometheus', 'Consistency', 'TSim', 'Faithfullness', 'Relevancy',\n",
       "       'Correctness', 'RSim', 'LLM', 'Bleurt'],\n",
       "      dtype='object')"
      ]
     },
     "execution_count": 12,
     "metadata": {},
     "output_type": "execute_result"
    }
   ],
   "source": [
    "aligned.columns"
   ]
  },
  {
   "cell_type": "code",
   "execution_count": 13,
   "metadata": {},
   "outputs": [
    {
     "data": {
      "text/plain": [
       "Index(['Unnamed: 0.1', 'Unnamed: 0', 'question', 'correct_answer', 'context',\n",
       "       'answer_8b', 'Rouge1', 'Rouge2', 'RougeL', 'Bleu', 'Chrf', 'Chrfplus',\n",
       "       'Meteor', 'Ter', 'Bert', 'WMS', 'SMS', 'Wisdm', 'Bart', 'BEM',\n",
       "       'Prometheus', 'Consistency', 'TSim', 'Faithfullness', 'Relevancy',\n",
       "       'Correctness', 'RSim', 'LLM', 'Bleurt'],\n",
       "      dtype='object')"
      ]
     },
     "execution_count": 13,
     "metadata": {},
     "output_type": "execute_result"
    }
   ],
   "source": [
    "shuffled.columns"
   ]
  },
  {
   "cell_type": "code",
   "execution_count": 14,
   "metadata": {},
   "outputs": [],
   "source": [
    "def cohen_d(group1, group2):\n",
    "    # Calculate the means of the groups\n",
    "    mean1 = group1.mean()\n",
    "    mean2 = group2.mean()\n",
    "\n",
    "    # Calculate the variance of the groups\n",
    "    var1 = group1.var()\n",
    "    var2 = group2.var()\n",
    "\n",
    "    # Calculate the number of observations in each group\n",
    "    n1, n2 = len(group1), len(group2)\n",
    "\n",
    "    # Calculate the pooled standard deviation\n",
    "    pooled_std = np.sqrt((var1 * (n1 - 1) + var2 * (n2 - 1)) / (n1 + n2 - 2))\n",
    "\n",
    "    # Calculate Cohen's d\n",
    "    d = (mean1 - mean2) / pooled_std\n",
    "    return d"
   ]
  },
  {
   "cell_type": "code",
   "execution_count": 15,
   "metadata": {},
   "outputs": [],
   "source": [
    "bleu = cohen_d(aligned['Bleu'], shuffled['Bleu'])\n",
    "rouge1 = cohen_d(aligned['Rouge1'], shuffled['Rouge1'])\n",
    "rouge2 = cohen_d(aligned['Rouge2'], shuffled['Rouge2'])\n",
    "rougel = cohen_d(aligned['RougeL'], shuffled['RougeL'])\n",
    "chrf = cohen_d(aligned['Chrf'], shuffled['Chrf'])\n",
    "chrfplus = cohen_d(aligned['ChrfPlus'], shuffled['Chrfplus'])\n",
    "ter = cohen_d(aligned['Ter'], shuffled['Ter'])\n",
    "meteor = cohen_d(aligned['Meteor'], shuffled['Meteor'])\n",
    "bert = cohen_d(aligned['Bert'], shuffled['Bert'])\n",
    "wms = cohen_d(aligned['WMS'], shuffled['WMS'])\n",
    "sms = cohen_d(aligned['SMS'], shuffled['SMS'])\n",
    "wisdm = cohen_d(aligned['Wisdm'], shuffled['Wisdm'])\n",
    "bleurt = cohen_d(aligned['Bleurt'], shuffled['Bleurt'])\n",
    "bem = cohen_d(aligned['BEM'], shuffled['BEM'])\n",
    "bart = cohen_d(aligned['Bart'], shuffled['Bart'])\n",
    "prometheus = cohen_d(aligned['Prometheus'], shuffled['Prometheus'])\n",
    "faithfullness = cohen_d(aligned['Faithfullness'], shuffled['Faithfullness'])\n",
    "relevancy = cohen_d(aligned['Relevancy'], shuffled['Relevancy'])\n",
    "correctness = cohen_d(aligned['Correctness'], shuffled['Correctness'])\n",
    "rsimilarity = cohen_d(aligned['RSim'], shuffled['RSim'])\n",
    "consistency = cohen_d(aligned['Consistency'], shuffled['Consistency'])\n",
    "tsimilarity = cohen_d(aligned['TSim'], shuffled['TSim'])\n",
    "LLM = cohen_d(aligned['LLM'], shuffled['LLM'])\n"
   ]
  },
  {
   "cell_type": "code",
   "execution_count": 16,
   "metadata": {},
   "outputs": [
    {
     "name": "stdout",
     "output_type": "stream",
     "text": [
      "-0.2203455984522911\n",
      "-0.22561500250407016\n",
      "-0.21123838437099193\n",
      "-0.20436990672028693\n",
      "-0.2136641278707927\n",
      "-0.20327068233299747\n",
      "-0.2452016083263635\n",
      "-0.347807563621242\n",
      "-0.2770825698650247\n",
      "0.005980818826130365\n",
      "-0.25407351852972077\n",
      "-0.10849744432677566\n",
      "-0.06485548656930276\n",
      "-0.06485548656930276\n",
      "-0.1967017762630697\n",
      "-0.03111805947281345\n",
      "-0.1352813693762704\n",
      "0.21612546229280208\n",
      "0.10228353955260097\n",
      "-0.08189710137528232\n",
      "-0.2385314458962391\n",
      "-0.13967646422503005\n",
      "-0.1998742928851295\n"
     ]
    }
   ],
   "source": [
    "print(bleu)\n",
    "print(rouge1)\n",
    "print(rouge2)\n",
    "print(rougel)\n",
    "print(chrf)\n",
    "print(chrfplus)\n",
    "print(meteor)\n",
    "print(ter)\n",
    "print(bert)\n",
    "print(wms)\n",
    "print(sms)\n",
    "print(wisdm)\n",
    "print(bleurt)\n",
    "print(bem)\n",
    "print(prometheus)\n",
    "print(bart)\n",
    "print(LLM)\n",
    "print(faithfullness)\n",
    "print(relevancy)\n",
    "print(correctness)\n",
    "print(rsimilarity)\n",
    "print(consistency)\n",
    "print(tsimilarity)\n"
   ]
  }
 ],
 "metadata": {
  "kernelspec": {
   "display_name": "Python 3",
   "language": "python",
   "name": "python3"
  },
  "language_info": {
   "codemirror_mode": {
    "name": "ipython",
    "version": 3
   },
   "file_extension": ".py",
   "mimetype": "text/x-python",
   "name": "python",
   "nbconvert_exporter": "python",
   "pygments_lexer": "ipython3",
   "version": "3.10.12"
  }
 },
 "nbformat": 4,
 "nbformat_minor": 2
}
