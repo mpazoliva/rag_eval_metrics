{
 "cells": [
  {
   "cell_type": "code",
   "execution_count": 1,
   "metadata": {},
   "outputs": [],
   "source": [
    "import pandas as pd"
   ]
  },
  {
   "cell_type": "code",
   "execution_count": 2,
   "metadata": {},
   "outputs": [],
   "source": [
    "df = pd.read_csv('/home/ubuntu/iris_repos/llm_evaluation_thesis/data/Sensitivity data/sample_1/data/sensitivity.csv')"
   ]
  },
  {
   "cell_type": "code",
   "execution_count": 7,
   "metadata": {},
   "outputs": [
    {
     "data": {
      "text/plain": [
       "(364, 11)"
      ]
     },
     "execution_count": 7,
     "metadata": {},
     "output_type": "execute_result"
    }
   ],
   "source": [
    "df.shape"
   ]
  },
  {
   "cell_type": "code",
   "execution_count": 3,
   "metadata": {},
   "outputs": [
    {
     "data": {
      "text/plain": [
       "Index(['query', 'abstract_id', 'question_type', 'question', 'ground_truth',\n",
       "       'correct_similar', 'correct_different', 'incorrect_similar',\n",
       "       'incorrect_related', 'incorrect_unrelated', 'abstract'],\n",
       "      dtype='object')"
      ]
     },
     "execution_count": 3,
     "metadata": {},
     "output_type": "execute_result"
    }
   ],
   "source": [
    "df.columns"
   ]
  },
  {
   "cell_type": "code",
   "execution_count": 5,
   "metadata": {},
   "outputs": [
    {
     "data": {
      "text/plain": [
       "array(['linguistics', 'medicine', 'chemistry', 'environment', 'sports',\n",
       "       'plants'], dtype=object)"
      ]
     },
     "execution_count": 5,
     "metadata": {},
     "output_type": "execute_result"
    }
   ],
   "source": [
    "df['query'].unique()"
   ]
  },
  {
   "cell_type": "code",
   "execution_count": 6,
   "metadata": {},
   "outputs": [
    {
     "data": {
      "text/plain": [
       "array(['Fact Checking', 'Reasoning'], dtype=object)"
      ]
     },
     "execution_count": 6,
     "metadata": {},
     "output_type": "execute_result"
    }
   ],
   "source": [
    "df['question_type'].unique()"
   ]
  },
  {
   "cell_type": "code",
   "execution_count": 8,
   "metadata": {},
   "outputs": [],
   "source": [
    "subsample_df = pd.DataFrame()\n",
    "\n",
    "# Loop through each unique query\n",
    "for query in df['query'].unique():\n",
    "    # Filter the DataFrame for the current query\n",
    "    query_df = df[df['query'] == query]\n",
    "    \n",
    "    # Sample 5 rows for 'Fact Checking'\n",
    "    fact_checking_sample = query_df[query_df['question_type'] == 'Fact Checking'].sample(5, random_state=42)\n",
    "    \n",
    "    # Sample 5 rows for 'Reasoning'\n",
    "    reasoning_sample = query_df[query_df['question_type'] == 'Reasoning'].sample(5, random_state=42)\n",
    "    \n",
    "    # Concatenate the samples to the subsample DataFrame\n",
    "    subsample_df = pd.concat([subsample_df, fact_checking_sample, reasoning_sample])\n",
    "\n",
    "# Reset the index of the subsample DataFrame\n",
    "subsample_df = subsample_df.reset_index(drop=True)"
   ]
  },
  {
   "cell_type": "code",
   "execution_count": 9,
   "metadata": {},
   "outputs": [
    {
     "data": {
      "text/plain": [
       "Index(['query', 'abstract_id', 'question_type', 'question', 'ground_truth',\n",
       "       'correct_similar', 'correct_different', 'incorrect_similar',\n",
       "       'incorrect_related', 'incorrect_unrelated', 'abstract'],\n",
       "      dtype='object')"
      ]
     },
     "execution_count": 9,
     "metadata": {},
     "output_type": "execute_result"
    }
   ],
   "source": [
    "subsample_df.columns"
   ]
  },
  {
   "cell_type": "code",
   "execution_count": 10,
   "metadata": {},
   "outputs": [
    {
     "data": {
      "text/plain": [
       "(60, 11)"
      ]
     },
     "execution_count": 10,
     "metadata": {},
     "output_type": "execute_result"
    }
   ],
   "source": [
    "subsample_df.shape"
   ]
  },
  {
   "cell_type": "code",
   "execution_count": 11,
   "metadata": {},
   "outputs": [
    {
     "data": {
      "text/plain": [
       "array(['linguistics', 'medicine', 'chemistry', 'environment', 'sports',\n",
       "       'plants'], dtype=object)"
      ]
     },
     "execution_count": 11,
     "metadata": {},
     "output_type": "execute_result"
    }
   ],
   "source": [
    "subsample_df['query'].unique()"
   ]
  },
  {
   "cell_type": "code",
   "execution_count": 12,
   "metadata": {},
   "outputs": [
    {
     "data": {
      "text/plain": [
       "array(['Fact Checking', 'Reasoning'], dtype=object)"
      ]
     },
     "execution_count": 12,
     "metadata": {},
     "output_type": "execute_result"
    }
   ],
   "source": [
    "subsample_df['question_type'].unique()"
   ]
  },
  {
   "cell_type": "code",
   "execution_count": 13,
   "metadata": {},
   "outputs": [],
   "source": [
    "df_path= \"/home/ubuntu/iris_repos/llm_evaluation_thesis/data/Sensitivity data/sample_1/data/sensitivity_100.csv\"\n",
    "subsample_df.to_csv(df_path, index=False)"
   ]
  }
 ],
 "metadata": {
  "kernelspec": {
   "display_name": "Python 3",
   "language": "python",
   "name": "python3"
  },
  "language_info": {
   "codemirror_mode": {
    "name": "ipython",
    "version": 3
   },
   "file_extension": ".py",
   "mimetype": "text/x-python",
   "name": "python",
   "nbconvert_exporter": "python",
   "pygments_lexer": "ipython3",
   "version": "3.10.12"
  }
 },
 "nbformat": 4,
 "nbformat_minor": 2
}
