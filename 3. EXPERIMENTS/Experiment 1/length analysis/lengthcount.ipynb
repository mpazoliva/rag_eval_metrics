{
 "cells": [
  {
   "cell_type": "code",
   "execution_count": 1,
   "metadata": {},
   "outputs": [],
   "source": [
    "import pandas as pd"
   ]
  },
  {
   "cell_type": "code",
   "execution_count": 2,
   "metadata": {},
   "outputs": [],
   "source": [
    "qasper_aligned = pd.read_csv(\"/home/ubuntu/iris_repos/llm_evaluation_thesis/analysis/computing scores/FULL ALIGNED/qasper_aligned_iris.csv\")\n",
    "qasper_shuffled = pd.read_csv(\"/home/ubuntu/iris_repos/llm_evaluation_thesis/analysis/computing scores/FULL SHUFFLED/qasper_shuffled_iris.csv\")\n",
    "qasper_8b = pd.read_csv(\"/home/ubuntu/iris_repos/llm_evaluation_thesis/analysis/computing scores/Qasper 8-70b/qasper_8b.csv\")\n",
    "qasper_70b = pd.read_csv(\"/home/ubuntu/iris_repos/llm_evaluation_thesis/analysis/computing scores/Qasper 8-70b/qasper_70b.csv\")\n",
    "###\n",
    "qasa_aligned = pd.read_csv(\"/home/ubuntu/iris_repos/llm_evaluation_thesis/analysis/computing scores/FULL ALIGNED/qasa_aligned_iris.csv\")\n",
    "qasa_shuffled = pd.read_csv(\"/home/ubuntu/iris_repos/llm_evaluation_thesis/analysis/computing scores/FULL SHUFFLED/qasa_shuffled_iris.csv\")\n",
    "qasa_8b = pd.read_csv(\"/home/ubuntu/iris_repos/llm_evaluation_thesis/analysis/computing scores/Qasa 8-70b/qasa_8b.csv\")\n",
    "qasa_70b = pd.read_csv(\"/home/ubuntu/iris_repos/llm_evaluation_thesis/analysis/computing scores/Qasa 8-70b/qasa_70b.csv\")"
   ]
  },
  {
   "cell_type": "code",
   "execution_count": 5,
   "metadata": {},
   "outputs": [],
   "source": [
    "# Function to calculate the average word length of strings in a column\n",
    "def average_word_length(df, column_name):\n",
    "    # Calculate word count for each string in the column\n",
    "    word_lengths = df[column_name].astype(str).apply(lambda x: len(x.split()))\n",
    "    # Return the average word count\n",
    "    return word_lengths.mean()"
   ]
  },
  {
   "cell_type": "code",
   "execution_count": 3,
   "metadata": {},
   "outputs": [
    {
     "data": {
      "text/plain": [
       "Index(['Unnamed: 0', 'question', 'context', 'correct_answer', 'iris_answer',\n",
       "       'Rouge1', 'Rouge2', 'RougeL', 'Bleu', 'Chrf', 'ChrfPlus', 'Meteor',\n",
       "       'Ter', 'Bert', 'WMS', 'SMS', 'Wisdm', 'Bart', 'Faithfullness',\n",
       "       'Relevancy', 'RSim'],\n",
       "      dtype='object')"
      ]
     },
     "execution_count": 3,
     "metadata": {},
     "output_type": "execute_result"
    }
   ],
   "source": [
    "qasper_aligned.columns"
   ]
  },
  {
   "cell_type": "code",
   "execution_count": 6,
   "metadata": {},
   "outputs": [
    {
     "name": "stdout",
     "output_type": "stream",
     "text": [
      "Average word length in qasper aligned (reference): 11.939049586776859\n",
      "Average word length in qasper aligned (generated): 143.03925619834712\n"
     ]
    }
   ],
   "source": [
    "# Calculate average word lengths for each relevant column\n",
    "avg_qasper_aligned_reference = average_word_length(qasper_aligned, 'correct_answer')\n",
    "avg_qasper_aligned_generated = average_word_length(qasper_aligned, 'iris_answer')\n",
    "\n",
    "# Print the results\n",
    "print(f\"Average word length in qasper aligned (reference): {avg_qasper_aligned_reference}\")\n",
    "print(f\"Average word length in qasper aligned (generated): {avg_qasper_aligned_generated}\")"
   ]
  },
  {
   "cell_type": "code",
   "execution_count": 8,
   "metadata": {},
   "outputs": [
    {
     "name": "stdout",
     "output_type": "stream",
     "text": [
      "Average word length in qasper shu (reference): 17.614669421487605\n",
      "Average word length in qasper shu (generated): 18.787190082644628\n"
     ]
    }
   ],
   "source": [
    "# Calculate average word lengths for each relevant column\n",
    "avg_qasper_shu_reference = average_word_length(qasper_shuffled, 'correct_answer')\n",
    "avg_qasper_shu_generated = average_word_length(qasper_shuffled, 'iris_answer')\n",
    "\n",
    "# Print the results\n",
    "print(f\"Average word length in qasper shu (reference): {avg_qasper_shu_reference}\")\n",
    "print(f\"Average word length in qasper shu (generated): {avg_qasper_shu_generated}\")"
   ]
  },
  {
   "cell_type": "code",
   "execution_count": 7,
   "metadata": {},
   "outputs": [
    {
     "name": "stdout",
     "output_type": "stream",
     "text": [
      "Average word length in qasa aligned (reference): 38.76394293125811\n",
      "Average word length in qasa aligned (generated): 31.97859922178988\n"
     ]
    }
   ],
   "source": [
    "# Calculate average word lengths for each relevant column\n",
    "avg_qasa_aligned_reference = average_word_length(qasa_aligned, 'correct_answer')\n",
    "avg_qasa_aligned_generated = average_word_length(qasa_aligned, 'iris_answer')\n",
    "\n",
    "# Print the results\n",
    "print(f\"Average word length in qasa aligned (reference): {avg_qasa_aligned_reference}\")\n",
    "print(f\"Average word length in qasa aligned (generated): {avg_qasa_aligned_generated}\")"
   ]
  },
  {
   "cell_type": "code",
   "execution_count": 9,
   "metadata": {},
   "outputs": [
    {
     "name": "stdout",
     "output_type": "stream",
     "text": [
      "Average word length in qasa shu (reference): 38.76394293125811\n",
      "Average word length in qasa shu (generated): 31.97859922178988\n"
     ]
    }
   ],
   "source": [
    "# Calculate average word lengths for each relevant column\n",
    "avg_qasa_shu_reference = average_word_length(qasa_shuffled, 'correct_answer')\n",
    "avg_qasa_shu_generated = average_word_length(qasa_shuffled, 'iris_answer')\n",
    "\n",
    "# Print the results\n",
    "print(f\"Average word length in qasa shu (reference): {avg_qasa_shu_reference}\")\n",
    "print(f\"Average word length in qasa shu (generated): {avg_qasa_shu_generated}\")"
   ]
  },
  {
   "cell_type": "code",
   "execution_count": 10,
   "metadata": {},
   "outputs": [
    {
     "data": {
      "text/plain": [
       "Index(['Unnamed: 0', 'question', 'correct_answer', 'context', 'answer_8b',\n",
       "       'Rouge1', 'Rouge2', 'RougeL', 'Bleu', 'Chrf', 'ChrfPlus', 'Meteor',\n",
       "       'Ter', 'Bert', 'WMS', 'SMS', 'Wisdm'],\n",
       "      dtype='object')"
      ]
     },
     "execution_count": 10,
     "metadata": {},
     "output_type": "execute_result"
    }
   ],
   "source": [
    "qasa_8b.columns"
   ]
  },
  {
   "cell_type": "code",
   "execution_count": 12,
   "metadata": {},
   "outputs": [
    {
     "name": "stdout",
     "output_type": "stream",
     "text": [
      "Average word length in qasper8b (reference): 21.20709219858156\n",
      "Average word length in qasper8b (generated): 8.53758865248227\n"
     ]
    }
   ],
   "source": [
    "# Calculate average word lengths for each relevant column\n",
    "avg_qasper8b_reference = average_word_length(qasper_8b, 'correct_answer')\n",
    "avg_qasper8b_generated = average_word_length(qasper_8b, 'answer_8b')\n",
    "\n",
    "\n",
    "# Print the results\n",
    "print(f\"Average word length in qasper8b (reference): {avg_qasper8b_reference}\")\n",
    "print(f\"Average word length in qasper8b (generated): {avg_qasper8b_generated}\")"
   ]
  },
  {
   "cell_type": "code",
   "execution_count": 14,
   "metadata": {},
   "outputs": [
    {
     "name": "stdout",
     "output_type": "stream",
     "text": [
      "Average word length in qasper70b (reference): 21.20709219858156\n",
      "Average word length in qasper70b (generated): 3.5078014184397164\n"
     ]
    }
   ],
   "source": [
    "# Calculate average word lengths for each relevant column\n",
    "avg_qasper70b_reference = average_word_length(qasper_70b, 'correct_answer')\n",
    "avg_qasper70b_generated = average_word_length(qasper_70b, 'answer_70b')\n",
    "\n",
    "\n",
    "# Print the results\n",
    "print(f\"Average word length in qasper70b (reference): {avg_qasper70b_reference}\")\n",
    "print(f\"Average word length in qasper70b (generated): {avg_qasper70b_generated}\")"
   ]
  },
  {
   "cell_type": "code",
   "execution_count": 11,
   "metadata": {},
   "outputs": [
    {
     "name": "stdout",
     "output_type": "stream",
     "text": [
      "Average word length in qasa8b (reference): 38.7033462033462\n",
      "Average word length in qasa8b (generated): 10.404118404118405\n"
     ]
    }
   ],
   "source": [
    "# Calculate average word lengths for each relevant column\n",
    "avg_qasa8b_reference = average_word_length(qasa_8b, 'correct_answer')\n",
    "avg_qasa8b_generated = average_word_length(qasa_8b, 'answer_8b')\n",
    "\n",
    "\n",
    "# Print the results\n",
    "print(f\"Average word length in qasa8b (reference): {avg_qasa8b_reference}\")\n",
    "print(f\"Average word length in qasa8b (generated): {avg_qasa8b_generated}\")\n"
   ]
  },
  {
   "cell_type": "code",
   "execution_count": 15,
   "metadata": {},
   "outputs": [
    {
     "name": "stdout",
     "output_type": "stream",
     "text": [
      "Average word length in qasa70b (reference): 38.7033462033462\n",
      "Average word length in qasa70b (generated): 8.7998712998713\n"
     ]
    }
   ],
   "source": [
    "# Calculate average word lengths for each relevant column\n",
    "avg_qasa70b_reference = average_word_length(qasa_70b, 'correct_answer')\n",
    "avg_qasa70b_generated = average_word_length(qasa_70b, 'answer_70b')\n",
    "\n",
    "\n",
    "# Print the results\n",
    "print(f\"Average word length in qasa70b (reference): {avg_qasa70b_reference}\")\n",
    "print(f\"Average word length in qasa70b (generated): {avg_qasa70b_generated}\")"
   ]
  }
 ],
 "metadata": {
  "kernelspec": {
   "display_name": "Python 3",
   "language": "python",
   "name": "python3"
  },
  "language_info": {
   "codemirror_mode": {
    "name": "ipython",
    "version": 3
   },
   "file_extension": ".py",
   "mimetype": "text/x-python",
   "name": "python",
   "nbconvert_exporter": "python",
   "pygments_lexer": "ipython3",
   "version": "3.10.12"
  }
 },
 "nbformat": 4,
 "nbformat_minor": 2
}
