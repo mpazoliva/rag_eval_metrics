{
 "cells": [
  {
   "cell_type": "code",
   "execution_count": 1,
   "metadata": {},
   "outputs": [],
   "source": [
    "import pandas as pd\n",
    "import numpy as np"
   ]
  },
  {
   "cell_type": "code",
   "execution_count": 3,
   "metadata": {},
   "outputs": [],
   "source": [
    "aligned = pd.read_csv(\"/home/ubuntu/iris_repos/llm_evaluation_thesis/analysis/computing scores/FULL ALIGNED/qasa_aligned_iris_100.csv\")\n",
    "shuffled = pd.read_csv(\"/home/ubuntu/iris_repos/llm_evaluation_thesis/analysis/computing scores/FULL SHUFFLED/qasa_shuffled_iris_100.csv\")"
   ]
  },
  {
   "cell_type": "code",
   "execution_count": 4,
   "metadata": {},
   "outputs": [
    {
     "data": {
      "text/plain": [
       "Index(['question', 'context', 'correct_answer', 'iris_answer', 'Rouge1',\n",
       "       'Rouge2', 'RougeL', 'Bleu', 'Chrf', 'ChrfPlus', 'Meteor', 'Ter', 'Bert',\n",
       "       'WMS', 'SMS', 'Wisdm', 'Bleurt', 'BEM', 'Bart', 'Prometheus',\n",
       "       'Faithfullness', 'Relevancy', 'Correctness', 'RSim', 'Consistency',\n",
       "       'TSim', 'LLM'],\n",
       "      dtype='object')"
      ]
     },
     "execution_count": 4,
     "metadata": {},
     "output_type": "execute_result"
    }
   ],
   "source": [
    "aligned.columns"
   ]
  },
  {
   "cell_type": "code",
   "execution_count": 5,
   "metadata": {},
   "outputs": [
    {
     "data": {
      "text/plain": [
       "Index(['question', 'context', 'correct_answer', 'iris_answer', 'Rouge1',\n",
       "       'Rouge2', 'RougeL', 'Bleu', 'Chrf', 'ChrfPlus', 'Meteor', 'Ter', 'Bert',\n",
       "       'WMS', 'SMS', 'Wisdm', 'Bleurt', 'BEM', 'Bart', 'Prometheus',\n",
       "       'Faithfullness', 'Relevancy', 'Correctness', 'RSim', 'Consistency',\n",
       "       'TSim', 'LLM'],\n",
       "      dtype='object')"
      ]
     },
     "execution_count": 5,
     "metadata": {},
     "output_type": "execute_result"
    }
   ],
   "source": [
    "shuffled.columns"
   ]
  },
  {
   "cell_type": "code",
   "execution_count": 7,
   "metadata": {},
   "outputs": [],
   "source": [
    "def cohen_d(group1, group2):\n",
    "    # Calculate the means of the groups\n",
    "    mean1 = group1.mean()\n",
    "    mean2 = group2.mean()\n",
    "\n",
    "    # Calculate the variance of the groups\n",
    "    var1 = group1.var()\n",
    "    var2 = group2.var()\n",
    "\n",
    "    # Calculate the number of observations in each group\n",
    "    n1, n2 = len(group1), len(group2)\n",
    "\n",
    "    # Calculate the pooled standard deviation\n",
    "    pooled_std = np.sqrt((var1 * (n1 - 1) + var2 * (n2 - 1)) / (n1 + n2 - 2))\n",
    "\n",
    "    # Calculate Cohen's d\n",
    "    d = (mean1 - mean2) / pooled_std\n",
    "    return d"
   ]
  },
  {
   "cell_type": "code",
   "execution_count": 8,
   "metadata": {},
   "outputs": [],
   "source": [
    "bleu = cohen_d(aligned['Bleu'], shuffled['Bleu'])\n",
    "rouge1 = cohen_d(aligned['Rouge1'], shuffled['Rouge1'])\n",
    "rouge2 = cohen_d(aligned['Rouge2'], shuffled['Rouge2'])\n",
    "rougel = cohen_d(aligned['RougeL'], shuffled['RougeL'])\n",
    "chrf = cohen_d(aligned['Chrf'], shuffled['Chrf'])\n",
    "chrfplus = cohen_d(aligned['ChrfPlus'], shuffled['ChrfPlus'])\n",
    "ter = cohen_d(aligned['Ter'], shuffled['Ter'])\n",
    "meteor = cohen_d(aligned['Meteor'], shuffled['Meteor'])\n",
    "bert = cohen_d(aligned['Bert'], shuffled['Bert'])\n",
    "wms = cohen_d(aligned['WMS'], shuffled['WMS'])\n",
    "sms = cohen_d(aligned['SMS'], shuffled['SMS'])\n",
    "wisdm = cohen_d(aligned['Wisdm'], shuffled['Wisdm'])\n",
    "bleurt = cohen_d(aligned['Bleurt'], shuffled['Bleurt'])\n",
    "bem = cohen_d(aligned['BEM'], shuffled['BEM'])\n",
    "bart = cohen_d(aligned['Bart'], shuffled['Bart'])\n",
    "prometheus = cohen_d(aligned['Prometheus'], shuffled['Prometheus'])\n",
    "faithfullness = cohen_d(aligned['Faithfullness'], shuffled['Faithfullness'])\n",
    "relevancy = cohen_d(aligned['Relevancy'], shuffled['Relevancy'])\n",
    "correctness = cohen_d(aligned['Correctness'], shuffled['Correctness'])\n",
    "rsimilarity = cohen_d(aligned['RSim'], shuffled['RSim'])\n",
    "consistency = cohen_d(aligned['Consistency'], shuffled['Consistency'])\n",
    "tsimilarity = cohen_d(aligned['TSim'], shuffled['TSim'])\n",
    "LLM = cohen_d(aligned['LLM'], shuffled['LLM'])\n"
   ]
  },
  {
   "cell_type": "code",
   "execution_count": 9,
   "metadata": {},
   "outputs": [
    {
     "name": "stdout",
     "output_type": "stream",
     "text": [
      "0.89406962809769\n",
      "1.1337485127410731\n",
      "1.0654557542432563\n",
      "1.0939937450245454\n",
      "1.0734792080615585\n",
      "1.1256698151490176\n",
      "1.1349228444130461\n",
      "-0.047443789532816\n",
      "2.2110299489058542\n",
      "1.2540122629247286\n",
      "2.0695438754685456\n",
      "1.4903123973958659\n",
      "1.1481639895516018\n",
      "1.6863151144901973\n",
      "0.8734410739584532\n",
      "3.563889226956745\n",
      "1.3947903981215377\n",
      "0.7660772299473257\n",
      "0.7353863620539418\n",
      "2.2771998848590997\n",
      "2.564982295709858\n",
      "2.359166304755865\n",
      "5.087284416615046\n"
     ]
    }
   ],
   "source": [
    "print(bleu)\n",
    "print(rouge1)\n",
    "print(rouge2)\n",
    "print(rougel)\n",
    "print(chrf)\n",
    "print(chrfplus)\n",
    "print(meteor)\n",
    "print(ter)\n",
    "print(bert)\n",
    "print(wms)\n",
    "print(sms)\n",
    "print(wisdm)\n",
    "print(bleurt)\n",
    "print(bem)\n",
    "print(bart)\n",
    "print(prometheus)\n",
    "print(faithfullness)\n",
    "print(relevancy)\n",
    "print(correctness)\n",
    "print(rsimilarity)\n",
    "print(consistency)\n",
    "print(tsimilarity)\n",
    "print(LLM)\n"
   ]
  }
 ],
 "metadata": {
  "kernelspec": {
   "display_name": "Python 3",
   "language": "python",
   "name": "python3"
  },
  "language_info": {
   "codemirror_mode": {
    "name": "ipython",
    "version": 3
   },
   "file_extension": ".py",
   "mimetype": "text/x-python",
   "name": "python",
   "nbconvert_exporter": "python",
   "pygments_lexer": "ipython3",
   "version": "3.10.12"
  }
 },
 "nbformat": 4,
 "nbformat_minor": 2
}
