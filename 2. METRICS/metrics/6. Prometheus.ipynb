{
 "cells": [
  {
   "cell_type": "code",
   "execution_count": 38,
   "metadata": {},
   "outputs": [
    {
     "name": "stdout",
     "output_type": "stream",
     "text": [
      "Defaulting to user installation because normal site-packages is not writeable\n",
      "Requirement already satisfied: litellm in /home/ubuntu/.local/lib/python3.10/site-packages (1.43.15)\n",
      "Requirement already satisfied: tiktoken>=0.7.0 in /home/ubuntu/.local/lib/python3.10/site-packages (from litellm) (0.7.0)\n",
      "Requirement already satisfied: jinja2<4.0.0,>=3.1.2 in /home/ubuntu/.local/lib/python3.10/site-packages (from litellm) (3.1.4)\n",
      "Requirement already satisfied: openai>=1.40.0 in /home/ubuntu/.local/lib/python3.10/site-packages (from litellm) (1.40.8)\n",
      "Requirement already satisfied: importlib-metadata>=6.8.0 in /home/ubuntu/.local/lib/python3.10/site-packages (from litellm) (8.2.0)\n",
      "Requirement already satisfied: aiohttp in /home/ubuntu/.local/lib/python3.10/site-packages (from litellm) (3.9.5)\n",
      "Requirement already satisfied: click in /usr/lib/python3/dist-packages (from litellm) (8.0.3)\n",
      "Requirement already satisfied: jsonschema<5.0.0,>=4.22.0 in /home/ubuntu/.local/lib/python3.10/site-packages (from litellm) (4.23.0)\n",
      "Requirement already satisfied: pydantic<3.0.0,>=2.0.0 in /home/ubuntu/.local/lib/python3.10/site-packages (from litellm) (2.7.0)\n",
      "Requirement already satisfied: python-dotenv>=0.2.0 in /home/ubuntu/.local/lib/python3.10/site-packages (from litellm) (1.0.1)\n",
      "Requirement already satisfied: tokenizers in /home/ubuntu/.local/lib/python3.10/site-packages (from litellm) (0.20.0)\n",
      "Requirement already satisfied: requests<3.0.0,>=2.31.0 in /home/ubuntu/.local/lib/python3.10/site-packages (from litellm) (2.32.3)\n",
      "Requirement already satisfied: zipp>=0.5 in /usr/lib/python3/dist-packages (from importlib-metadata>=6.8.0->litellm) (1.0.0)\n",
      "Requirement already satisfied: MarkupSafe>=2.0 in /usr/lib/python3/dist-packages (from jinja2<4.0.0,>=3.1.2->litellm) (2.0.1)\n",
      "Requirement already satisfied: rpds-py>=0.7.1 in /home/ubuntu/.local/lib/python3.10/site-packages (from jsonschema<5.0.0,>=4.22.0->litellm) (0.20.0)\n",
      "Requirement already satisfied: referencing>=0.28.4 in /home/ubuntu/.local/lib/python3.10/site-packages (from jsonschema<5.0.0,>=4.22.0->litellm) (0.35.1)\n",
      "Requirement already satisfied: jsonschema-specifications>=2023.03.6 in /home/ubuntu/.local/lib/python3.10/site-packages (from jsonschema<5.0.0,>=4.22.0->litellm) (2023.12.1)\n",
      "Requirement already satisfied: attrs>=22.2.0 in /home/ubuntu/.local/lib/python3.10/site-packages (from jsonschema<5.0.0,>=4.22.0->litellm) (24.2.0)\n",
      "Requirement already satisfied: tqdm>4 in /home/ubuntu/.local/lib/python3.10/site-packages (from openai>=1.40.0->litellm) (4.66.2)\n",
      "Requirement already satisfied: sniffio in /home/ubuntu/.local/lib/python3.10/site-packages (from openai>=1.40.0->litellm) (1.3.1)\n",
      "Requirement already satisfied: distro<2,>=1.7.0 in /usr/lib/python3/dist-packages (from openai>=1.40.0->litellm) (1.7.0)\n",
      "Requirement already satisfied: jiter<1,>=0.4.0 in /home/ubuntu/.local/lib/python3.10/site-packages (from openai>=1.40.0->litellm) (0.5.0)\n",
      "Requirement already satisfied: anyio<5,>=3.5.0 in /home/ubuntu/.local/lib/python3.10/site-packages (from openai>=1.40.0->litellm) (4.3.0)\n",
      "Requirement already satisfied: httpx<1,>=0.23.0 in /home/ubuntu/.local/lib/python3.10/site-packages (from openai>=1.40.0->litellm) (0.27.0)\n",
      "Requirement already satisfied: typing-extensions<5,>=4.11 in /home/ubuntu/.local/lib/python3.10/site-packages (from openai>=1.40.0->litellm) (4.11.0)\n",
      "Requirement already satisfied: pydantic-core==2.18.1 in /home/ubuntu/.local/lib/python3.10/site-packages (from pydantic<3.0.0,>=2.0.0->litellm) (2.18.1)\n",
      "Requirement already satisfied: annotated-types>=0.4.0 in /home/ubuntu/.local/lib/python3.10/site-packages (from pydantic<3.0.0,>=2.0.0->litellm) (0.6.0)\n",
      "Requirement already satisfied: certifi>=2017.4.17 in /usr/lib/python3/dist-packages (from requests<3.0.0,>=2.31.0->litellm) (2020.6.20)\n",
      "Requirement already satisfied: charset-normalizer<4,>=2 in /home/ubuntu/.local/lib/python3.10/site-packages (from requests<3.0.0,>=2.31.0->litellm) (3.3.2)\n",
      "Requirement already satisfied: urllib3<3,>=1.21.1 in /usr/lib/python3/dist-packages (from requests<3.0.0,>=2.31.0->litellm) (1.26.5)\n",
      "Requirement already satisfied: idna<4,>=2.5 in /usr/lib/python3/dist-packages (from requests<3.0.0,>=2.31.0->litellm) (3.3)\n",
      "Requirement already satisfied: regex>=2022.1.18 in /home/ubuntu/.local/lib/python3.10/site-packages (from tiktoken>=0.7.0->litellm) (2024.4.16)\n",
      "Requirement already satisfied: aiosignal>=1.1.2 in /home/ubuntu/.local/lib/python3.10/site-packages (from aiohttp->litellm) (1.3.1)\n",
      "Requirement already satisfied: frozenlist>=1.1.1 in /home/ubuntu/.local/lib/python3.10/site-packages (from aiohttp->litellm) (1.4.1)\n",
      "Requirement already satisfied: async-timeout<5.0,>=4.0 in /home/ubuntu/.local/lib/python3.10/site-packages (from aiohttp->litellm) (4.0.3)\n",
      "Requirement already satisfied: multidict<7.0,>=4.5 in /home/ubuntu/.local/lib/python3.10/site-packages (from aiohttp->litellm) (6.0.5)\n",
      "Requirement already satisfied: yarl<2.0,>=1.0 in /home/ubuntu/.local/lib/python3.10/site-packages (from aiohttp->litellm) (1.9.4)\n",
      "Requirement already satisfied: huggingface-hub<1.0,>=0.16.4 in /home/ubuntu/.local/lib/python3.10/site-packages (from tokenizers->litellm) (0.24.5)\n",
      "Requirement already satisfied: exceptiongroup>=1.0.2 in /home/ubuntu/.local/lib/python3.10/site-packages (from anyio<5,>=3.5.0->openai>=1.40.0->litellm) (1.2.0)\n",
      "Requirement already satisfied: httpcore==1.* in /home/ubuntu/.local/lib/python3.10/site-packages (from httpx<1,>=0.23.0->openai>=1.40.0->litellm) (1.0.5)\n",
      "Requirement already satisfied: h11<0.15,>=0.13 in /home/ubuntu/.local/lib/python3.10/site-packages (from httpcore==1.*->httpx<1,>=0.23.0->openai>=1.40.0->litellm) (0.14.0)\n",
      "Requirement already satisfied: packaging>=20.9 in /home/ubuntu/.local/lib/python3.10/site-packages (from huggingface-hub<1.0,>=0.16.4->tokenizers->litellm) (24.0)\n",
      "Requirement already satisfied: pyyaml>=5.1 in /usr/lib/python3/dist-packages (from huggingface-hub<1.0,>=0.16.4->tokenizers->litellm) (5.4.1)\n",
      "Requirement already satisfied: fsspec>=2023.5.0 in /home/ubuntu/.local/lib/python3.10/site-packages (from huggingface-hub<1.0,>=0.16.4->tokenizers->litellm) (2024.6.1)\n",
      "Requirement already satisfied: filelock in /home/ubuntu/.local/lib/python3.10/site-packages (from huggingface-hub<1.0,>=0.16.4->tokenizers->litellm) (3.15.4)\n",
      "Defaulting to user installation because normal site-packages is not writeable\n",
      "Requirement already satisfied: prometheus_eval in /home/ubuntu/.local/lib/python3.10/site-packages (0.1.19)\n",
      "Requirement already satisfied: aiolimiter<2.0.0,>=1.1.0 in /home/ubuntu/.local/lib/python3.10/site-packages (from prometheus_eval) (1.1.0)\n",
      "Requirement already satisfied: fastchat<0.2.0,>=0.1.0 in /home/ubuntu/.local/lib/python3.10/site-packages (from prometheus_eval) (0.1.0)\n",
      "Requirement already satisfied: litellm<2.0.0,>=1.40.0 in /home/ubuntu/.local/lib/python3.10/site-packages (from prometheus_eval) (1.43.15)\n",
      "Requirement already satisfied: openai>=1.40.0 in /home/ubuntu/.local/lib/python3.10/site-packages (from litellm<2.0.0,>=1.40.0->prometheus_eval) (1.40.8)\n",
      "Requirement already satisfied: click in /usr/lib/python3/dist-packages (from litellm<2.0.0,>=1.40.0->prometheus_eval) (8.0.3)\n",
      "Requirement already satisfied: jsonschema<5.0.0,>=4.22.0 in /home/ubuntu/.local/lib/python3.10/site-packages (from litellm<2.0.0,>=1.40.0->prometheus_eval) (4.23.0)\n",
      "Requirement already satisfied: requests<3.0.0,>=2.31.0 in /home/ubuntu/.local/lib/python3.10/site-packages (from litellm<2.0.0,>=1.40.0->prometheus_eval) (2.32.3)\n",
      "Requirement already satisfied: aiohttp in /home/ubuntu/.local/lib/python3.10/site-packages (from litellm<2.0.0,>=1.40.0->prometheus_eval) (3.9.5)\n",
      "Requirement already satisfied: python-dotenv>=0.2.0 in /home/ubuntu/.local/lib/python3.10/site-packages (from litellm<2.0.0,>=1.40.0->prometheus_eval) (1.0.1)\n",
      "Requirement already satisfied: importlib-metadata>=6.8.0 in /home/ubuntu/.local/lib/python3.10/site-packages (from litellm<2.0.0,>=1.40.0->prometheus_eval) (8.2.0)\n",
      "Requirement already satisfied: jinja2<4.0.0,>=3.1.2 in /home/ubuntu/.local/lib/python3.10/site-packages (from litellm<2.0.0,>=1.40.0->prometheus_eval) (3.1.4)\n",
      "Requirement already satisfied: tiktoken>=0.7.0 in /home/ubuntu/.local/lib/python3.10/site-packages (from litellm<2.0.0,>=1.40.0->prometheus_eval) (0.7.0)\n",
      "Requirement already satisfied: tokenizers in /home/ubuntu/.local/lib/python3.10/site-packages (from litellm<2.0.0,>=1.40.0->prometheus_eval) (0.20.0)\n",
      "Requirement already satisfied: pydantic<3.0.0,>=2.0.0 in /home/ubuntu/.local/lib/python3.10/site-packages (from litellm<2.0.0,>=1.40.0->prometheus_eval) (2.7.0)\n",
      "Requirement already satisfied: zipp>=0.5 in /usr/lib/python3/dist-packages (from importlib-metadata>=6.8.0->litellm<2.0.0,>=1.40.0->prometheus_eval) (1.0.0)\n",
      "Requirement already satisfied: MarkupSafe>=2.0 in /usr/lib/python3/dist-packages (from jinja2<4.0.0,>=3.1.2->litellm<2.0.0,>=1.40.0->prometheus_eval) (2.0.1)\n",
      "Requirement already satisfied: referencing>=0.28.4 in /home/ubuntu/.local/lib/python3.10/site-packages (from jsonschema<5.0.0,>=4.22.0->litellm<2.0.0,>=1.40.0->prometheus_eval) (0.35.1)\n",
      "Requirement already satisfied: attrs>=22.2.0 in /home/ubuntu/.local/lib/python3.10/site-packages (from jsonschema<5.0.0,>=4.22.0->litellm<2.0.0,>=1.40.0->prometheus_eval) (24.2.0)\n",
      "Requirement already satisfied: rpds-py>=0.7.1 in /home/ubuntu/.local/lib/python3.10/site-packages (from jsonschema<5.0.0,>=4.22.0->litellm<2.0.0,>=1.40.0->prometheus_eval) (0.20.0)\n",
      "Requirement already satisfied: jsonschema-specifications>=2023.03.6 in /home/ubuntu/.local/lib/python3.10/site-packages (from jsonschema<5.0.0,>=4.22.0->litellm<2.0.0,>=1.40.0->prometheus_eval) (2023.12.1)\n",
      "Requirement already satisfied: distro<2,>=1.7.0 in /usr/lib/python3/dist-packages (from openai>=1.40.0->litellm<2.0.0,>=1.40.0->prometheus_eval) (1.7.0)\n",
      "Requirement already satisfied: typing-extensions<5,>=4.11 in /home/ubuntu/.local/lib/python3.10/site-packages (from openai>=1.40.0->litellm<2.0.0,>=1.40.0->prometheus_eval) (4.11.0)\n",
      "Requirement already satisfied: tqdm>4 in /home/ubuntu/.local/lib/python3.10/site-packages (from openai>=1.40.0->litellm<2.0.0,>=1.40.0->prometheus_eval) (4.66.2)\n",
      "Requirement already satisfied: sniffio in /home/ubuntu/.local/lib/python3.10/site-packages (from openai>=1.40.0->litellm<2.0.0,>=1.40.0->prometheus_eval) (1.3.1)\n",
      "Requirement already satisfied: jiter<1,>=0.4.0 in /home/ubuntu/.local/lib/python3.10/site-packages (from openai>=1.40.0->litellm<2.0.0,>=1.40.0->prometheus_eval) (0.5.0)\n",
      "Requirement already satisfied: anyio<5,>=3.5.0 in /home/ubuntu/.local/lib/python3.10/site-packages (from openai>=1.40.0->litellm<2.0.0,>=1.40.0->prometheus_eval) (4.3.0)\n",
      "Requirement already satisfied: httpx<1,>=0.23.0 in /home/ubuntu/.local/lib/python3.10/site-packages (from openai>=1.40.0->litellm<2.0.0,>=1.40.0->prometheus_eval) (0.27.0)\n",
      "Requirement already satisfied: pydantic-core==2.18.1 in /home/ubuntu/.local/lib/python3.10/site-packages (from pydantic<3.0.0,>=2.0.0->litellm<2.0.0,>=1.40.0->prometheus_eval) (2.18.1)\n",
      "Requirement already satisfied: annotated-types>=0.4.0 in /home/ubuntu/.local/lib/python3.10/site-packages (from pydantic<3.0.0,>=2.0.0->litellm<2.0.0,>=1.40.0->prometheus_eval) (0.6.0)\n",
      "Requirement already satisfied: charset-normalizer<4,>=2 in /home/ubuntu/.local/lib/python3.10/site-packages (from requests<3.0.0,>=2.31.0->litellm<2.0.0,>=1.40.0->prometheus_eval) (3.3.2)\n",
      "Requirement already satisfied: urllib3<3,>=1.21.1 in /usr/lib/python3/dist-packages (from requests<3.0.0,>=2.31.0->litellm<2.0.0,>=1.40.0->prometheus_eval) (1.26.5)\n",
      "Requirement already satisfied: certifi>=2017.4.17 in /usr/lib/python3/dist-packages (from requests<3.0.0,>=2.31.0->litellm<2.0.0,>=1.40.0->prometheus_eval) (2020.6.20)\n",
      "Requirement already satisfied: idna<4,>=2.5 in /usr/lib/python3/dist-packages (from requests<3.0.0,>=2.31.0->litellm<2.0.0,>=1.40.0->prometheus_eval) (3.3)\n",
      "Requirement already satisfied: regex>=2022.1.18 in /home/ubuntu/.local/lib/python3.10/site-packages (from tiktoken>=0.7.0->litellm<2.0.0,>=1.40.0->prometheus_eval) (2024.4.16)\n",
      "Requirement already satisfied: async-timeout<5.0,>=4.0 in /home/ubuntu/.local/lib/python3.10/site-packages (from aiohttp->litellm<2.0.0,>=1.40.0->prometheus_eval) (4.0.3)\n",
      "Requirement already satisfied: yarl<2.0,>=1.0 in /home/ubuntu/.local/lib/python3.10/site-packages (from aiohttp->litellm<2.0.0,>=1.40.0->prometheus_eval) (1.9.4)\n",
      "Requirement already satisfied: aiosignal>=1.1.2 in /home/ubuntu/.local/lib/python3.10/site-packages (from aiohttp->litellm<2.0.0,>=1.40.0->prometheus_eval) (1.3.1)\n",
      "Requirement already satisfied: frozenlist>=1.1.1 in /home/ubuntu/.local/lib/python3.10/site-packages (from aiohttp->litellm<2.0.0,>=1.40.0->prometheus_eval) (1.4.1)\n",
      "Requirement already satisfied: multidict<7.0,>=4.5 in /home/ubuntu/.local/lib/python3.10/site-packages (from aiohttp->litellm<2.0.0,>=1.40.0->prometheus_eval) (6.0.5)\n",
      "Requirement already satisfied: huggingface-hub<1.0,>=0.16.4 in /home/ubuntu/.local/lib/python3.10/site-packages (from tokenizers->litellm<2.0.0,>=1.40.0->prometheus_eval) (0.24.5)\n",
      "Requirement already satisfied: exceptiongroup>=1.0.2 in /home/ubuntu/.local/lib/python3.10/site-packages (from anyio<5,>=3.5.0->openai>=1.40.0->litellm<2.0.0,>=1.40.0->prometheus_eval) (1.2.0)\n",
      "Requirement already satisfied: httpcore==1.* in /home/ubuntu/.local/lib/python3.10/site-packages (from httpx<1,>=0.23.0->openai>=1.40.0->litellm<2.0.0,>=1.40.0->prometheus_eval) (1.0.5)\n",
      "Requirement already satisfied: h11<0.15,>=0.13 in /home/ubuntu/.local/lib/python3.10/site-packages (from httpcore==1.*->httpx<1,>=0.23.0->openai>=1.40.0->litellm<2.0.0,>=1.40.0->prometheus_eval) (0.14.0)\n",
      "Requirement already satisfied: pyyaml>=5.1 in /usr/lib/python3/dist-packages (from huggingface-hub<1.0,>=0.16.4->tokenizers->litellm<2.0.0,>=1.40.0->prometheus_eval) (5.4.1)\n",
      "Requirement already satisfied: fsspec>=2023.5.0 in /home/ubuntu/.local/lib/python3.10/site-packages (from huggingface-hub<1.0,>=0.16.4->tokenizers->litellm<2.0.0,>=1.40.0->prometheus_eval) (2024.6.1)\n",
      "Requirement already satisfied: filelock in /home/ubuntu/.local/lib/python3.10/site-packages (from huggingface-hub<1.0,>=0.16.4->tokenizers->litellm<2.0.0,>=1.40.0->prometheus_eval) (3.15.4)\n",
      "Requirement already satisfied: packaging>=20.9 in /home/ubuntu/.local/lib/python3.10/site-packages (from huggingface-hub<1.0,>=0.16.4->tokenizers->litellm<2.0.0,>=1.40.0->prometheus_eval) (24.0)\n",
      "Defaulting to user installation because normal site-packages is not writeable\n",
      "Requirement already satisfied: nest_asyncio in /home/ubuntu/.local/lib/python3.10/site-packages (1.6.0)\n"
     ]
    }
   ],
   "source": [
    "! pip install litellm\n",
    "! pip install prometheus_eval\n",
    "! pip install nest_asyncio"
   ]
  },
  {
   "cell_type": "code",
   "execution_count": 39,
   "metadata": {},
   "outputs": [
    {
     "name": "stderr",
     "output_type": "stream",
     "text": [
      "100%|██████████| 1/1 [00:00<00:00,  1.89it/s]\n"
     ]
    },
    {
     "name": "stdout",
     "output_type": "stream",
     "text": [
      "Processed 1/1 instances.\n"
     ]
    },
    {
     "name": "stderr",
     "output_type": "stream",
     "text": [
      "Finalizing: 100%|██████████| 1/1 [00:00<00:00, 16320.25it/s]"
     ]
    },
    {
     "name": "stdout",
     "output_type": "stream",
     "text": [
      "Score: 1\n"
     ]
    },
    {
     "name": "stderr",
     "output_type": "stream",
     "text": [
      "\n"
     ]
    }
   ],
   "source": [
    "import os\n",
    "from litellm import completion\n",
    "from prometheus_eval import PrometheusEval\n",
    "from prometheus_eval.litellm import LiteLLM\n",
    "from prometheus_eval.prompts import ABSOLUTE_PROMPT, SCORE_RUBRIC_TEMPLATE\n",
    "import nest_asyncio\n",
    "\n",
    "# Apply nest_asyncio to allow nested event loops\n",
    "nest_asyncio.apply()\n",
    "\n",
    "# Set your Groq API key\n",
    "os.environ['GROQ_API_KEY'] = \"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\"\n",
    "\n",
    "# Initialize the LiteLLM model with Groq\n",
    "model = LiteLLM('groq/llama-3.1-70b-versatile')\n",
    "judge = PrometheusEval(model=model, absolute_grade_template=ABSOLUTE_PROMPT)\n",
    "\n",
    "def get_prometheus_score(question, reference_answer, candidate_answer):\n",
    "    rubric_data = {\n",
    "        \"criteria\": \"Is the model proficient in generating a relevant, faithful, and complete answer to the question?\",\n",
    "        \"score1_description\": \"The generated answer is not relevant to the user query and reference answer.\",\n",
    "        \"score2_description\": \"The generated answer is similar to the reference answer but not relevant to the user query.\",\n",
    "        \"score3_description\": \"The generated answer is relevant to the user query and reference answer but contains mistakes.\",\n",
    "        \"score4_description\": \"The generated answer is relevant to the user query and is similar to the reference answer but is not as concise.\",\n",
    "        \"score5_description\": \"The generated answer is relevant to the user query and fully correct according to the reference answer.\"\n",
    "    }\n",
    "\n",
    "    score_rubric = SCORE_RUBRIC_TEMPLATE.format(**rubric_data)\n",
    "\n",
    "    # Run the evaluation\n",
    "    _, score = judge.single_absolute_grade(\n",
    "        instruction=question,\n",
    "        response=candidate_answer,\n",
    "        rubric=score_rubric,\n",
    "        reference_answer=reference_answer\n",
    "    )\n",
    "\n",
    "    return score\n",
    "\n",
    "# Example usage\n",
    "question = \"What are the fox and the dog doing?\"\n",
    "reference_answer = \"The quick brown fox jumps over the lazy black dog.\"\n",
    "candidate_answer_1 = \"The quick brown fox jumps over the lazy black dog.\"\n",
    "candidate_answer_2 = \"The fast fox leaps over the idle dog.\"\n",
    "candidate_answer_3 = \"A spaceship landed on Mars and discovered alien life.\"\n",
    "\n",
    "\n",
    "score = get_prometheus_score(question, reference_answer, candidate_answer_3)\n",
    "print(\"Score:\", score)\n"
   ]
  },
  {
   "cell_type": "code",
   "execution_count": 40,
   "metadata": {},
   "outputs": [
    {
     "name": "stderr",
     "output_type": "stream",
     "text": [
      "100%|██████████| 1/1 [00:00<00:00,  1.35it/s]\n"
     ]
    },
    {
     "name": "stdout",
     "output_type": "stream",
     "text": [
      "Processed 1/1 instances.\n"
     ]
    },
    {
     "name": "stderr",
     "output_type": "stream",
     "text": [
      "Finalizing: 100%|██████████| 1/1 [00:00<00:00, 16448.25it/s]\n",
      "100%|██████████| 1/1 [00:00<00:00,  1.44it/s]\n"
     ]
    },
    {
     "name": "stdout",
     "output_type": "stream",
     "text": [
      "Processed 1/1 instances.\n"
     ]
    },
    {
     "name": "stderr",
     "output_type": "stream",
     "text": [
      "Finalizing: 100%|██████████| 1/1 [00:00<00:00, 15196.75it/s]"
     ]
    },
    {
     "name": "stdout",
     "output_type": "stream",
     "text": [
      "                         question correct_answer reference_answer  \\\n",
      "0  What is the capital of France?          Paris            Paris   \n",
      "1                  What is 2 + 2?              4                4   \n",
      "\n",
      "   prometheus_score  \n",
      "0                 5  \n",
      "1                 5  \n"
     ]
    },
    {
     "name": "stderr",
     "output_type": "stream",
     "text": [
      "\n"
     ]
    }
   ],
   "source": [
    "import pandas as pd\n",
    "\n",
    "# Assuming the get_prometheus_score function and other necessary imports have already been done\n",
    "\n",
    "def apply_prometheus_score(df):\n",
    "    # Apply the get_prometheus_score function to each row\n",
    "    df['prometheus_score'] = df.apply(\n",
    "        lambda row: get_prometheus_score(\n",
    "            question=row['question'],\n",
    "            reference_answer=row['reference_answer'],\n",
    "            candidate_answer=row['correct_answer']\n",
    "        ), axis=1\n",
    "    )\n",
    "    return df\n",
    "\n",
    "# Example usage\n",
    "data = {\n",
    "    'question': [\"What is the capital of France?\", \"What is 2 + 2?\"],\n",
    "    'correct_answer': [\"Paris\", \"4\"],\n",
    "    'reference_answer': [\"Paris\", \"4\"]\n",
    "}\n",
    "\n",
    "df = pd.DataFrame(data)\n",
    "\n",
    "# Apply the function to the DataFrame\n",
    "df_with_scores = apply_prometheus_score(df)\n",
    "\n",
    "# Display the DataFrame with the new column\n",
    "print(df_with_scores)"
   ]
  },
  {
   "cell_type": "code",
   "execution_count": 41,
   "metadata": {},
   "outputs": [
    {
     "name": "stdout",
     "output_type": "stream",
     "text": [
      "Processing row 1/25\n"
     ]
    },
    {
     "name": "stderr",
     "output_type": "stream",
     "text": [
      "100%|██████████| 1/1 [00:10<00:00, 10.64s/it]\n"
     ]
    },
    {
     "name": "stdout",
     "output_type": "stream",
     "text": [
      "Processed 1/1 instances.\n"
     ]
    },
    {
     "name": "stderr",
     "output_type": "stream",
     "text": [
      "Finalizing: 100%|██████████| 1/1 [00:00<00:00, 13751.82it/s]\n"
     ]
    },
    {
     "name": "stdout",
     "output_type": "stream",
     "text": [
      "Score for row 1: 3\n",
      "Processing row 2/25\n"
     ]
    },
    {
     "name": "stderr",
     "output_type": "stream",
     "text": [
      "100%|██████████| 1/1 [00:01<00:00,  1.08s/it]\n"
     ]
    },
    {
     "name": "stdout",
     "output_type": "stream",
     "text": [
      "Processed 1/1 instances.\n"
     ]
    },
    {
     "name": "stderr",
     "output_type": "stream",
     "text": [
      "Finalizing: 100%|██████████| 1/1 [00:00<00:00, 13888.42it/s]\n"
     ]
    },
    {
     "name": "stdout",
     "output_type": "stream",
     "text": [
      "Score for row 2: 1\n",
      "Processing row 3/25\n"
     ]
    },
    {
     "name": "stderr",
     "output_type": "stream",
     "text": [
      "100%|██████████| 1/1 [00:02<00:00,  2.93s/it]\n"
     ]
    },
    {
     "name": "stdout",
     "output_type": "stream",
     "text": [
      "Processed 1/1 instances.\n"
     ]
    },
    {
     "name": "stderr",
     "output_type": "stream",
     "text": [
      "Finalizing: 100%|██████████| 1/1 [00:00<00:00, 14217.98it/s]\n"
     ]
    },
    {
     "name": "stdout",
     "output_type": "stream",
     "text": [
      "Score for row 3: 4\n",
      "Processing row 4/25\n"
     ]
    },
    {
     "name": "stderr",
     "output_type": "stream",
     "text": [
      "100%|██████████| 1/1 [00:01<00:00,  1.59s/it]\n"
     ]
    },
    {
     "name": "stdout",
     "output_type": "stream",
     "text": [
      "Processed 1/1 instances.\n"
     ]
    },
    {
     "name": "stderr",
     "output_type": "stream",
     "text": [
      "Finalizing: 100%|██████████| 1/1 [00:00<00:00, 13842.59it/s]\n"
     ]
    },
    {
     "name": "stdout",
     "output_type": "stream",
     "text": [
      "Score for row 4: 4\n",
      "Processing row 5/25\n"
     ]
    },
    {
     "name": "stderr",
     "output_type": "stream",
     "text": [
      "100%|██████████| 1/1 [00:01<00:00,  1.00s/it]\n"
     ]
    },
    {
     "name": "stdout",
     "output_type": "stream",
     "text": [
      "Processed 1/1 instances.\n"
     ]
    },
    {
     "name": "stderr",
     "output_type": "stream",
     "text": [
      "Finalizing: 100%|██████████| 1/1 [00:00<00:00, 12483.05it/s]\n"
     ]
    },
    {
     "name": "stdout",
     "output_type": "stream",
     "text": [
      "Score for row 5: 4\n",
      "Processing row 6/25\n"
     ]
    },
    {
     "name": "stderr",
     "output_type": "stream",
     "text": [
      "100%|██████████| 1/1 [00:00<00:00,  1.01it/s]\n"
     ]
    },
    {
     "name": "stdout",
     "output_type": "stream",
     "text": [
      "Processed 1/1 instances.\n"
     ]
    },
    {
     "name": "stderr",
     "output_type": "stream",
     "text": [
      "Finalizing: 100%|██████████| 1/1 [00:00<00:00, 14614.30it/s]\n"
     ]
    },
    {
     "name": "stdout",
     "output_type": "stream",
     "text": [
      "Score for row 6: 1\n",
      "Processing row 7/25\n"
     ]
    },
    {
     "name": "stderr",
     "output_type": "stream",
     "text": [
      "100%|██████████| 1/1 [00:02<00:00,  2.11s/it]\n"
     ]
    },
    {
     "name": "stdout",
     "output_type": "stream",
     "text": [
      "Processed 1/1 instances.\n"
     ]
    },
    {
     "name": "stderr",
     "output_type": "stream",
     "text": [
      "Finalizing: 100%|██████████| 1/1 [00:00<00:00, 15252.01it/s]\n"
     ]
    },
    {
     "name": "stdout",
     "output_type": "stream",
     "text": [
      "Score for row 7: 4\n",
      "Processing row 8/25\n"
     ]
    },
    {
     "name": "stderr",
     "output_type": "stream",
     "text": [
      "100%|██████████| 1/1 [00:01<00:00,  1.18s/it]\n"
     ]
    },
    {
     "name": "stdout",
     "output_type": "stream",
     "text": [
      "Processed 1/1 instances.\n"
     ]
    },
    {
     "name": "stderr",
     "output_type": "stream",
     "text": [
      "Finalizing: 100%|██████████| 1/1 [00:00<00:00, 12446.01it/s]\n"
     ]
    },
    {
     "name": "stdout",
     "output_type": "stream",
     "text": [
      "Score for row 8: 4\n",
      "Processing row 9/25\n"
     ]
    },
    {
     "name": "stderr",
     "output_type": "stream",
     "text": [
      "100%|██████████| 1/1 [00:00<00:00,  1.41it/s]\n"
     ]
    },
    {
     "name": "stdout",
     "output_type": "stream",
     "text": [
      "Processed 1/1 instances.\n"
     ]
    },
    {
     "name": "stderr",
     "output_type": "stream",
     "text": [
      "Finalizing: 100%|██████████| 1/1 [00:00<00:00, 11983.73it/s]\n"
     ]
    },
    {
     "name": "stdout",
     "output_type": "stream",
     "text": [
      "Score for row 9: 1\n",
      "Processing row 10/25\n"
     ]
    },
    {
     "name": "stderr",
     "output_type": "stream",
     "text": [
      "100%|██████████| 1/1 [00:00<00:00,  1.46it/s]\n"
     ]
    },
    {
     "name": "stdout",
     "output_type": "stream",
     "text": [
      "Processed 1/1 instances.\n"
     ]
    },
    {
     "name": "stderr",
     "output_type": "stream",
     "text": [
      "Finalizing: 100%|██████████| 1/1 [00:00<00:00, 13797.05it/s]\n"
     ]
    },
    {
     "name": "stdout",
     "output_type": "stream",
     "text": [
      "Score for row 10: 1\n",
      "Processing row 11/25\n"
     ]
    },
    {
     "name": "stderr",
     "output_type": "stream",
     "text": [
      "100%|██████████| 1/1 [00:04<00:00,  4.58s/it]\n"
     ]
    },
    {
     "name": "stdout",
     "output_type": "stream",
     "text": [
      "Retrying failed batches: Attempt 1/10\n"
     ]
    },
    {
     "name": "stderr",
     "output_type": "stream",
     "text": [
      "100%|██████████| 1/1 [00:00<00:00,  1.41it/s]\n"
     ]
    },
    {
     "name": "stdout",
     "output_type": "stream",
     "text": [
      "Processed 1/1 instances.\n"
     ]
    },
    {
     "name": "stderr",
     "output_type": "stream",
     "text": [
      "Finalizing: 100%|██████████| 1/1 [00:00<00:00, 11683.30it/s]\n"
     ]
    },
    {
     "name": "stdout",
     "output_type": "stream",
     "text": [
      "Score for row 11: 4\n",
      "Processing row 12/25\n"
     ]
    },
    {
     "name": "stderr",
     "output_type": "stream",
     "text": [
      "100%|██████████| 1/1 [00:02<00:00,  2.56s/it]\n"
     ]
    },
    {
     "name": "stdout",
     "output_type": "stream",
     "text": [
      "Processed 1/1 instances.\n"
     ]
    },
    {
     "name": "stderr",
     "output_type": "stream",
     "text": [
      "Finalizing: 100%|██████████| 1/1 [00:00<00:00, 12985.46it/s]\n"
     ]
    },
    {
     "name": "stdout",
     "output_type": "stream",
     "text": [
      "Score for row 12: 4\n",
      "Processing row 13/25\n"
     ]
    },
    {
     "name": "stderr",
     "output_type": "stream",
     "text": [
      "100%|██████████| 1/1 [00:01<00:00,  1.34s/it]\n"
     ]
    },
    {
     "name": "stdout",
     "output_type": "stream",
     "text": [
      "Processed 1/1 instances.\n"
     ]
    },
    {
     "name": "stderr",
     "output_type": "stream",
     "text": [
      "Finalizing: 100%|██████████| 1/1 [00:00<00:00, 11983.73it/s]\n"
     ]
    },
    {
     "name": "stdout",
     "output_type": "stream",
     "text": [
      "Score for row 13: 4\n",
      "Processing row 14/25\n"
     ]
    },
    {
     "name": "stderr",
     "output_type": "stream",
     "text": [
      "100%|██████████| 1/1 [00:00<00:00,  1.82it/s]\n"
     ]
    },
    {
     "name": "stdout",
     "output_type": "stream",
     "text": [
      "Processed 1/1 instances.\n"
     ]
    },
    {
     "name": "stderr",
     "output_type": "stream",
     "text": [
      "Finalizing: 100%|██████████| 1/1 [00:00<00:00, 13148.29it/s]\n"
     ]
    },
    {
     "name": "stdout",
     "output_type": "stream",
     "text": [
      "Score for row 14: 3\n",
      "Processing row 15/25\n"
     ]
    },
    {
     "name": "stderr",
     "output_type": "stream",
     "text": [
      "100%|██████████| 1/1 [00:01<00:00,  1.16s/it]\n"
     ]
    },
    {
     "name": "stdout",
     "output_type": "stream",
     "text": [
      "Processed 1/1 instances.\n"
     ]
    },
    {
     "name": "stderr",
     "output_type": "stream",
     "text": [
      "Finalizing: 100%|██████████| 1/1 [00:00<00:00, 11459.85it/s]\n"
     ]
    },
    {
     "name": "stdout",
     "output_type": "stream",
     "text": [
      "Score for row 15: 1\n",
      "Processing row 16/25\n"
     ]
    },
    {
     "name": "stderr",
     "output_type": "stream",
     "text": [
      "100%|██████████| 1/1 [00:00<00:00,  1.06it/s]\n"
     ]
    },
    {
     "name": "stdout",
     "output_type": "stream",
     "text": [
      "Processed 1/1 instances.\n"
     ]
    },
    {
     "name": "stderr",
     "output_type": "stream",
     "text": [
      "Finalizing: 100%|██████████| 1/1 [00:00<00:00, 11125.47it/s]\n"
     ]
    },
    {
     "name": "stdout",
     "output_type": "stream",
     "text": [
      "Score for row 16: 1\n",
      "Processing row 17/25\n"
     ]
    },
    {
     "name": "stderr",
     "output_type": "stream",
     "text": [
      "100%|██████████| 1/1 [00:01<00:00,  1.41s/it]\n"
     ]
    },
    {
     "name": "stdout",
     "output_type": "stream",
     "text": [
      "Processed 1/1 instances.\n"
     ]
    },
    {
     "name": "stderr",
     "output_type": "stream",
     "text": [
      "Finalizing: 100%|██████████| 1/1 [00:00<00:00, 12372.58it/s]\n"
     ]
    },
    {
     "name": "stdout",
     "output_type": "stream",
     "text": [
      "Score for row 17: 4\n",
      "Processing row 18/25\n"
     ]
    },
    {
     "name": "stderr",
     "output_type": "stream",
     "text": [
      "100%|██████████| 1/1 [00:00<00:00,  1.36it/s]\n"
     ]
    },
    {
     "name": "stdout",
     "output_type": "stream",
     "text": [
      "Processed 1/1 instances.\n"
     ]
    },
    {
     "name": "stderr",
     "output_type": "stream",
     "text": [
      "Finalizing: 100%|██████████| 1/1 [00:00<00:00, 11155.06it/s]\n"
     ]
    },
    {
     "name": "stdout",
     "output_type": "stream",
     "text": [
      "Score for row 18: 1\n",
      "Processing row 19/25\n"
     ]
    },
    {
     "name": "stderr",
     "output_type": "stream",
     "text": [
      "100%|██████████| 1/1 [00:00<00:00,  1.50it/s]\n"
     ]
    },
    {
     "name": "stdout",
     "output_type": "stream",
     "text": [
      "Processed 1/1 instances.\n"
     ]
    },
    {
     "name": "stderr",
     "output_type": "stream",
     "text": [
      "Finalizing: 100%|██████████| 1/1 [00:00<00:00, 12372.58it/s]\n"
     ]
    },
    {
     "name": "stdout",
     "output_type": "stream",
     "text": [
      "Score for row 19: 1\n",
      "Processing row 20/25\n"
     ]
    },
    {
     "name": "stderr",
     "output_type": "stream",
     "text": [
      "100%|██████████| 1/1 [00:00<00:00,  1.29it/s]\n"
     ]
    },
    {
     "name": "stdout",
     "output_type": "stream",
     "text": [
      "Processed 1/1 instances.\n"
     ]
    },
    {
     "name": "stderr",
     "output_type": "stream",
     "text": [
      "Finalizing: 100%|██████████| 1/1 [00:00<00:00, 11428.62it/s]\n"
     ]
    },
    {
     "name": "stdout",
     "output_type": "stream",
     "text": [
      "Score for row 20: 4\n",
      "Processing row 21/25\n"
     ]
    },
    {
     "name": "stderr",
     "output_type": "stream",
     "text": [
      "100%|██████████| 1/1 [00:00<00:00,  1.23it/s]\n"
     ]
    },
    {
     "name": "stdout",
     "output_type": "stream",
     "text": [
      "Processed 1/1 instances.\n"
     ]
    },
    {
     "name": "stderr",
     "output_type": "stream",
     "text": [
      "Finalizing: 100%|██████████| 1/1 [00:00<00:00, 10699.76it/s]\n"
     ]
    },
    {
     "name": "stdout",
     "output_type": "stream",
     "text": [
      "Score for row 21: 4\n",
      "Processing row 22/25\n"
     ]
    },
    {
     "name": "stderr",
     "output_type": "stream",
     "text": [
      "100%|██████████| 1/1 [00:00<00:00,  1.27it/s]\n"
     ]
    },
    {
     "name": "stdout",
     "output_type": "stream",
     "text": [
      "Processed 1/1 instances.\n"
     ]
    },
    {
     "name": "stderr",
     "output_type": "stream",
     "text": [
      "Finalizing: 100%|██████████| 1/1 [00:00<00:00, 12787.51it/s]\n"
     ]
    },
    {
     "name": "stdout",
     "output_type": "stream",
     "text": [
      "Score for row 22: 4\n",
      "Processing row 23/25\n"
     ]
    },
    {
     "name": "stderr",
     "output_type": "stream",
     "text": [
      "100%|██████████| 1/1 [00:00<00:00,  1.90it/s]\n"
     ]
    },
    {
     "name": "stdout",
     "output_type": "stream",
     "text": [
      "Processed 1/1 instances.\n"
     ]
    },
    {
     "name": "stderr",
     "output_type": "stream",
     "text": [
      "Finalizing: 100%|██████████| 1/1 [00:00<00:00, 16320.25it/s]\n"
     ]
    },
    {
     "name": "stdout",
     "output_type": "stream",
     "text": [
      "Score for row 23: 3\n",
      "Processing row 24/25\n"
     ]
    },
    {
     "name": "stderr",
     "output_type": "stream",
     "text": [
      "100%|██████████| 1/1 [00:00<00:00,  1.40it/s]\n"
     ]
    },
    {
     "name": "stdout",
     "output_type": "stream",
     "text": [
      "Processed 1/1 instances.\n"
     ]
    },
    {
     "name": "stderr",
     "output_type": "stream",
     "text": [
      "Finalizing: 100%|██████████| 1/1 [00:00<00:00, 13148.29it/s]\n"
     ]
    },
    {
     "name": "stdout",
     "output_type": "stream",
     "text": [
      "Score for row 24: 4\n",
      "Processing row 25/25\n"
     ]
    },
    {
     "name": "stderr",
     "output_type": "stream",
     "text": [
      "100%|██████████| 1/1 [00:00<00:00,  1.47it/s]\n"
     ]
    },
    {
     "name": "stdout",
     "output_type": "stream",
     "text": [
      "Processed 1/1 instances.\n"
     ]
    },
    {
     "name": "stderr",
     "output_type": "stream",
     "text": [
      "Finalizing: 100%|██████████| 1/1 [00:00<00:00, 13573.80it/s]"
     ]
    },
    {
     "name": "stdout",
     "output_type": "stream",
     "text": [
      "Score for row 25: 3\n"
     ]
    },
    {
     "name": "stderr",
     "output_type": "stream",
     "text": [
      "\n"
     ]
    }
   ],
   "source": [
    "import pandas as pd\n",
    "\n",
    "def apply_prometheus_score(df):\n",
    "    counter = 0\n",
    "    total_rows = len(df)\n",
    "\n",
    "    def compute_score(row):\n",
    "        nonlocal counter\n",
    "        counter += 1\n",
    "        print(f\"Processing row {counter}/{total_rows}\")\n",
    "        score = get_prometheus_score(\n",
    "            question=row['question'],\n",
    "            reference_answer=row['correct_answer'],\n",
    "            candidate_answer=row['gemma2_27B_answer']\n",
    "        )\n",
    "        print(f\"Score for row {counter}: {score}\")  # Debugging print\n",
    "        return score\n",
    "\n",
    "    # Apply the get_prometheus_score function to each row with a counter\n",
    "    df['score_gemma2_27B_answer'] = df.apply(compute_score, axis=1)\n",
    "    return df\n",
    "\n",
    "# Example usage\n",
    "df = pd.read_csv(\n",
    "    '/home/ubuntu/iris_repos/llm_evaluation_thesis/analysis/Analysis 3/survey_prometheus6.csv'\n",
    ")\n",
    "\n",
    "# Apply the function to the DataFrame\n",
    "df_prometheus = apply_prometheus_score(df)\n",
    "\n",
    "# Save the results to a CSV file\n",
    "df_prometheus.to_csv(\n",
    "    '/home/ubuntu/iris_repos/llm_evaluation_thesis/analysis/Analysis 3/survey_prometheus7.csv',\n",
    "    index=False\n",
    ")\n",
    "\n"
   ]
  }
 ],
 "metadata": {
  "kernelspec": {
   "display_name": "Python 3",
   "language": "python",
   "name": "python3"
  },
  "language_info": {
   "codemirror_mode": {
    "name": "ipython",
    "version": 3
   },
   "file_extension": ".py",
   "mimetype": "text/x-python",
   "name": "python",
   "nbconvert_exporter": "python",
   "pygments_lexer": "ipython3",
   "version": "3.10.12"
  }
 },
 "nbformat": 4,
 "nbformat_minor": 2
}
