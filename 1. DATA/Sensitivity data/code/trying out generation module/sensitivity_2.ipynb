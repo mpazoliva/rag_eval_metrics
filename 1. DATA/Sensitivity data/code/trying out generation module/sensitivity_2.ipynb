{
 "cells": [
  {
   "cell_type": "code",
   "execution_count": 1,
   "metadata": {},
   "outputs": [
    {
     "name": "stderr",
     "output_type": "stream",
     "text": [
      "[nltk_data] Downloading package punkt to /home/ubuntu/nltk_data...\n",
      "[nltk_data]   Package punkt is already up-to-date!\n",
      "[nltk_data] Downloading package stopwords to /home/ubuntu/nltk_data...\n",
      "[nltk_data]   Package stopwords is already up-to-date!\n"
     ]
    }
   ],
   "source": [
    "from sensitivity_data_generation import LLMClient, PubMedRetriever, QuestionFactChecking, QuestionReasoning, AnswerGroundTruth, AnswerCorrectSimilar, AnswerCorrectDifferent,AnswerIncorrectSimilar, AnswerIncorrectRelated, GenerateCompletePair, SensitivityDatasetGenerator"
   ]
  },
  {
   "cell_type": "markdown",
   "metadata": {},
   "source": [
    "LLM CLIENT"
   ]
  },
  {
   "cell_type": "code",
   "execution_count": 2,
   "metadata": {},
   "outputs": [],
   "source": [
    "llm_client_meta = LLMClient(developer=\"meta\", model_name=\"llama3-70b-8192\")\n",
    "llm_client_openai = LLMClient(developer=\"openai\", model_name=\"gpt-3.5-turbo-instruct\")"
   ]
  },
  {
   "cell_type": "code",
   "execution_count": 3,
   "metadata": {},
   "outputs": [],
   "source": [
    "prompt = \"Tell me which is the capital of France\""
   ]
  },
  {
   "cell_type": "code",
   "execution_count": 4,
   "metadata": {},
   "outputs": [],
   "source": [
    "answer_1 = llm_client_meta.call_llm(prompt)\n",
    "answer_2 = llm_client_openai.call_llm(prompt)"
   ]
  },
  {
   "cell_type": "code",
   "execution_count": 5,
   "metadata": {},
   "outputs": [
    {
     "data": {
      "text/plain": [
       "\"That's an easy one! The capital of France is Paris!\""
      ]
     },
     "execution_count": 5,
     "metadata": {},
     "output_type": "execute_result"
    }
   ],
   "source": [
    "answer_1"
   ]
  },
  {
   "cell_type": "code",
   "execution_count": 6,
   "metadata": {},
   "outputs": [
    {
     "data": {
      "text/plain": [
       "'The capital of France is Paris.'"
      ]
     },
     "execution_count": 6,
     "metadata": {},
     "output_type": "execute_result"
    }
   ],
   "source": [
    "answer_2"
   ]
  },
  {
   "cell_type": "markdown",
   "metadata": {},
   "source": [
    "PUB MED RETRIVER"
   ]
  },
  {
   "cell_type": "code",
   "execution_count": 7,
   "metadata": {},
   "outputs": [],
   "source": [
    "pubmed_apikey = \"20f8e223bcce9c230523437db9efc6b2b709\"\n",
    "retriever = PubMedRetriever(pubmed_apikey)\n",
    "query = \"hearts\""
   ]
  },
  {
   "cell_type": "code",
   "execution_count": 8,
   "metadata": {},
   "outputs": [],
   "source": [
    "abstract_try = retriever.get_abstracts(query,1)"
   ]
  },
  {
   "cell_type": "code",
   "execution_count": 9,
   "metadata": {},
   "outputs": [
    {
     "data": {
      "text/plain": [
       "['Preoperative prism adaptation (PPA) simulates postoperative status and possibly can predict postoperative undercorrection before surgery in esotropia. The present study aimed to assess the effect of 4-week PPA in preventing postoperative residual esotropia.']"
      ]
     },
     "execution_count": 9,
     "metadata": {},
     "output_type": "execute_result"
    }
   ],
   "source": [
    "abstract_try"
   ]
  },
  {
   "cell_type": "markdown",
   "metadata": {},
   "source": [
    "QUESTION GENERATE"
   ]
  },
  {
   "cell_type": "code",
   "execution_count": 10,
   "metadata": {},
   "outputs": [],
   "source": [
    "abstract= \"For evaluating machine-generated texts, automatic methods hold the promise of avoiding collection of human judgments, which can be expensive and time-consuming. The most common automatic metrics, like BLEU and ROUGE, depend on exact word matching, an inflexible approach for measuring semantic similarity. We introduce methods based on sentence mover’s similarity; our automatic metrics evaluate text in a continuous space using word and sentence embeddings. We find that sentence-based metrics correlate with human judgments significantly better than ROUGE, both on machine-generated summaries (average length of 3.4 sentences) and human-authored essays (length of 7.5). We also show that sentence mover’s similarity can be used as a reward when learning a generation model via reinforcement learning; we present both automatic and human evaluations of summaries learned in this way, finding that our approach outperforms ROUGE.\""
   ]
  },
  {
   "cell_type": "code",
   "execution_count": 11,
   "metadata": {},
   "outputs": [],
   "source": [
    "prompt_fc_question = \"Given the following abstract from a scientific paper, generate a fact-checking questions that can be answered with a specific piece of text from this abstract. The question should be directly answerable with a specific line or statement from the abstract. Abstract: {abstract}. Please generate a fact-checking question and return it as string. PLease output only the question, do not include the answer or anything else.\"\n",
    "promp_validate_question = \"You will be given a context and a question. Your task is to categorize the question according to the types listed below, based solely on the relationship between the question and the provided context. Fact Checking: the answer is a composition based on only one substring of the context, that can be used directly as it is written in the context. Reasoning: answer is a composition based on a more elaborated understanding made from more than one substring of the context.  substrings can not be used exactly as they are written, it requires a deeper understanding of the content. Unrelated: the answer cannot be derived from the context provided. Context: {abstract} Question: {question} Please provide only the category name of the question based on the definitions provided.\"\"\"\n",
    "question_fc = QuestionFactChecking(llm_client_meta, prompt_fc_question, promp_validate_question)\n",
    "question_fc_1 = question_fc.generate(abstract)"
   ]
  },
  {
   "cell_type": "code",
   "execution_count": 12,
   "metadata": {},
   "outputs": [
    {
     "data": {
      "text/plain": [
       "'What is the average length of machine-generated summaries in the study?'"
      ]
     },
     "execution_count": 12,
     "metadata": {},
     "output_type": "execute_result"
    }
   ],
   "source": [
    "question_fc_1"
   ]
  },
  {
   "cell_type": "code",
   "execution_count": 13,
   "metadata": {},
   "outputs": [],
   "source": [
    "prompt_r_question = \"\"\"Given the following abstract from a scientific paper, generate a deep reasoning questions that require synthesis of multiple parts of the abstract to form a comprehensive answer. \n",
    "                                These question should necessitate an understanding of the overall content, and the answer should include a paraphrase of more than one substring of the abstract. \n",
    "                                Abstract: {abstract}\n",
    "                                Please generate a deep reasoning question and return it as a string. \n",
    "                                Please output only the question, do not include the answer or anything else.\"\"\"\n",
    "question_r = QuestionReasoning(llm_client_meta, prompt_r_question,promp_validate_question)\n",
    "question_r_1 = question_r.generate(abstract)"
   ]
  },
  {
   "cell_type": "code",
   "execution_count": 14,
   "metadata": {},
   "outputs": [
    {
     "data": {
      "text/plain": [
       "'what implications does this have for the development of machine-generated text evaluation methods that can effectively correlate with human judgments?'"
      ]
     },
     "execution_count": 14,
     "metadata": {},
     "output_type": "execute_result"
    }
   ],
   "source": [
    "question_r_1"
   ]
  },
  {
   "cell_type": "markdown",
   "metadata": {},
   "source": [
    "GROUND TRUTH"
   ]
  },
  {
   "cell_type": "code",
   "execution_count": 15,
   "metadata": {},
   "outputs": [],
   "source": [
    "prompt_gen_gt = \"\"\"You will be given an abstract from a scientific paper and a question related to it.\n",
    "                                            Considering the abstract, generate a short answer for the question.\n",
    "                                            If the answer is only a name or a number write a full sentence, do not return only one name or number.\n",
    "                                            Abstract: {abstract}\n",
    "                                            Question: {question}\n",
    "                                            Please output only the accurate short answer.\n",
    "                                            \"\"\"\n",
    "gt = AnswerGroundTruth(llm_client_meta, prompt_gen_gt)"
   ]
  },
  {
   "cell_type": "code",
   "execution_count": 16,
   "metadata": {},
   "outputs": [],
   "source": [
    "gen_gt = gt.generate(abstract, question_fc_1)"
   ]
  },
  {
   "cell_type": "code",
   "execution_count": 17,
   "metadata": {},
   "outputs": [
    {
     "data": {
      "text/plain": [
       "'The average length of machine-generated summaries in the study is 3.4 sentences.'"
      ]
     },
     "execution_count": 17,
     "metadata": {},
     "output_type": "execute_result"
    }
   ],
   "source": [
    "gen_gt"
   ]
  },
  {
   "cell_type": "markdown",
   "metadata": {},
   "source": [
    "CORRECT SIMILAR"
   ]
  },
  {
   "cell_type": "code",
   "execution_count": 18,
   "metadata": {},
   "outputs": [],
   "source": [
    "prompt_gen_correct_sim = \"\"\"You will be given a sentence.\n",
    "                                                Your task is to write a new sentence that is a paraphrase similar to the original one. \n",
    "                                                It should keep the same meaning but using some different words.\n",
    "                                                Make sure that the original and the new sentence share at least 3 content words.\n",
    "                                                Sentence: {ground_truth}\n",
    "                                                Please output only the new sentence. \n",
    "                                            \"\"\"\n",
    "correct_similar = AnswerCorrectSimilar(llm_client_meta, prompt_gen_correct_sim)"
   ]
  },
  {
   "cell_type": "code",
   "execution_count": 19,
   "metadata": {},
   "outputs": [],
   "source": [
    "corr_sim = correct_similar.generate(gen_gt)"
   ]
  },
  {
   "cell_type": "code",
   "execution_count": 20,
   "metadata": {},
   "outputs": [
    {
     "data": {
      "text/plain": [
       "'The study reveals that the typical machine-generated summary consists of approximately 3.4 sentences on average.'"
      ]
     },
     "execution_count": 20,
     "metadata": {},
     "output_type": "execute_result"
    }
   ],
   "source": [
    "corr_sim"
   ]
  },
  {
   "cell_type": "markdown",
   "metadata": {},
   "source": [
    "CORRECT DIFFERENT"
   ]
  },
  {
   "cell_type": "code",
   "execution_count": 21,
   "metadata": {},
   "outputs": [],
   "source": [
    "prompt_correct_different = \"\"\"You will be given a sentence.\n",
    "                                                Your task is to write a new sentence that is a paraphrase completely different to the original one. \n",
    "                                                It should keep the same meaning but using completely different words.\n",
    "                                                Make sure that the original and the new sentence do not have any content word in common, not even 1.\n",
    "                                                \n",
    "                                                Example 1:\n",
    "                                                Original sentence: The car-trained network showed a drop in performance for inverted versus upright cars. \n",
    "                                                New sentence: This CNN demonstrated decreased behavior with upside-down items in comparison to those oriented correctly.\n",
    "\n",
    "                                                Example 2:\n",
    "                                                Original sentence: This paper tries to demonstrate, first, that the behavioral signatures associated to human face recognition can be explained as a result of the optimization of the task. Also, they show that it is not so “special”, as this behavior can be found in CNNs trained to recognize other objects (like cars). \n",
    "                                                New sentence: This article aims to demonstrate that the distinct characteristics linked to recognizing people’s visages may stem from enhancement of the activity. Furthermore, it illustrates that this pattern is not unique, as similar ones occur in neural networks developed to identify different items, such as vehicles.\n",
    "\n",
    "                                                Your task:\n",
    "                                                Original sentence: {ground_truth} \n",
    "                                                New sentence:\n",
    "                                                Please output only the new sentence.\"\"\"\n",
    "\n",
    "correct_different = AnswerCorrectDifferent(llm_client_meta, prompt_correct_different)"
   ]
  },
  {
   "cell_type": "code",
   "execution_count": 22,
   "metadata": {},
   "outputs": [],
   "source": [
    "corr_dif = correct_different.generate(gen_gt)"
   ]
  },
  {
   "cell_type": "code",
   "execution_count": 23,
   "metadata": {},
   "outputs": [
    {
     "data": {
      "text/plain": [
       "'The typical duration of automated abstracts in the research was equivalent to approximately three to four phrases.'"
      ]
     },
     "execution_count": 23,
     "metadata": {},
     "output_type": "execute_result"
    }
   ],
   "source": [
    "corr_dif"
   ]
  },
  {
   "cell_type": "markdown",
   "metadata": {},
   "source": [
    "INCORR SIMILAR"
   ]
  },
  {
   "cell_type": "code",
   "execution_count": 24,
   "metadata": {},
   "outputs": [],
   "source": [
    "prompt_inc_sim = \"\"\"You will be provided a sentence.\n",
    "                                    Your objective is to modify this sentence slightly so that it becomes incorrect or nonsensical.\n",
    "\n",
    "                                    Example 1:\n",
    "                                    Original sentence: The car-trained network showed a drop in performance for inverted versus upright cars. \n",
    "                                    New sentence: The car-trained network showed an increase in performance for inverted versus upright cars. \n",
    "                                    Example 2:\n",
    "                                    Original sentence: The authores utilize deep convolutional neural networks (CNNs) on their experiments.\n",
    "                                    New sentence: The authores utilize deep recurrent neural networks (CNNs) on their experiments.         \n",
    "\n",
    "                                    Sentence: {ground_truth}\n",
    "\n",
    "                                    Please output only the new sentence.\n",
    "                                    \"\"\"\n",
    "prompt_val_inc = \"\"\"You will be presented with a question, its correct answer, and a candidate sentence. Your task is to categorize the candidate sentence based on how it relates to the correct answer and the content of the question. Choose from the categories below:\n",
    "\n",
    "                    Incorrect Similar: The sentence resembles the correct answer but contains incorrect information or misinterpretations.\n",
    "                    Incorrect Related: The sentence is topically related to the question but does not address or correctly answer it.\n",
    "                    Incorrect Unrelated: The sentence has no relevance to the topic or context of the question.\n",
    "                    Rigth: The sentence is a possible rigth answer to the question.\n",
    "\n",
    "                    Question: {question}\n",
    "                    Correct Answer: {ground_truth}\n",
    "                    Candidate Sentence: {answer}\n",
    "\n",
    "                    Please provide only the category name for the candidate sentence based on the definitions provided.\"\"\"\n",
    "inc_sim = AnswerIncorrectSimilar(llm_client_meta, prompt_inc_sim, prompt_val_inc)"
   ]
  },
  {
   "cell_type": "code",
   "execution_count": 25,
   "metadata": {},
   "outputs": [],
   "source": [
    "incorr_sim = inc_sim.generate(gen_gt, question_fc_1) "
   ]
  },
  {
   "cell_type": "code",
   "execution_count": 26,
   "metadata": {},
   "outputs": [
    {
     "data": {
      "text/plain": [
       "'The average length of machine-generated sandwiches in the study is 3.4 sentences.'"
      ]
     },
     "execution_count": 26,
     "metadata": {},
     "output_type": "execute_result"
    }
   ],
   "source": [
    "incorr_sim"
   ]
  },
  {
   "cell_type": "markdown",
   "metadata": {},
   "source": [
    "INCORR RELATED"
   ]
  },
  {
   "cell_type": "code",
   "execution_count": 27,
   "metadata": {},
   "outputs": [],
   "source": [
    "prompt_gen_inc_rel = \"\"\"You will be provided a sentence.\n",
    "                                    Your task is to write a new short sentence on the topic of the original one but with different information.\n",
    "\n",
    "                                    Example 1:\n",
    "                                    Original sentence: The car-trained network showed a drop in performance for inverted versus upright cars. \n",
    "                                    New sentence: The inverted versus upright effect is a very popular phenomena investigated on the field of Computer Vision. \n",
    "                                    Example 2:\n",
    "                                    Original sentence: The authores utilize deep convolutional neural networks (CNNs) on their experiments.\n",
    "                                    New sentence: Deep convolutional neural networks (CNNs) are widely use on scientific research.\n",
    "\n",
    "\n",
    "                                    Sentence: {ground_truth}\n",
    "                                    Please output only the new sentence.\n",
    "                                    \"\"\"\n",
    "\n",
    "inc_rela = AnswerIncorrectRelated(llm_client_meta, prompt_gen_inc_rel, prompt_val_inc)"
   ]
  },
  {
   "cell_type": "code",
   "execution_count": 28,
   "metadata": {},
   "outputs": [],
   "source": [
    "inc_related = inc_rela.generate(gen_gt, question_fc_1)"
   ]
  },
  {
   "cell_type": "code",
   "execution_count": 29,
   "metadata": {},
   "outputs": [
    {
     "data": {
      "text/plain": [
       "'Researchers have found that human-generated summaries tend to be longer and more detailed than machine-generated ones.'"
      ]
     },
     "execution_count": 29,
     "metadata": {},
     "output_type": "execute_result"
    }
   ],
   "source": [
    "inc_related"
   ]
  },
  {
   "cell_type": "markdown",
   "metadata": {},
   "source": [
    "COMPLETE PAIR"
   ]
  },
  {
   "cell_type": "code",
   "execution_count": 30,
   "metadata": {},
   "outputs": [],
   "source": [
    "prompts = { \"prompt_factchecking\" : \"Given the following abstract from a scientific paper, generate a fact-checking questions that can be answered with a specific piece of text from this abstract. The question should be directly answerable with a specific line or statement from the abstract. Abstract: {abstract}. Please generate a fact-checking question and return it as string. Please output only the question, do not include the answer or anything else.\",\n",
    "            \"prompt_reasoning\" : \"\"\"Given the following abstract from a scientific paper, generate a deep reasoning questions that require synthesis of multiple parts of the abstract to form a comprehensive answer. \n",
    "                                These question should necessitate an understanding of the overall content, and the answer should include a paraphrase of more than one substring of the abstract. \n",
    "                                Abstract: {abstract}\n",
    "                                Please generate a deep reasoning question and return it as a string. \n",
    "                                Please output only the question, do not include the answer or anything else\n",
    "                                \"\"\",\n",
    "\n",
    "\"prompt_ground_truth\" : \"\"\"You will be given an abstract from a scientific paper and a question related to it.\n",
    "                                            Considering the abstract, generate a short answer for the question.\n",
    "                                            If the answer is only a name or a number write a full sentence, do not return only one name or number.\n",
    "                                            Abstract: {abstract}\n",
    "                                            Question: {question}\n",
    "                                            Please output only the accurate short answer.\n",
    "                                            \"\"\",\n",
    "\n",
    "\"prompt_correct_similar\" : \"\"\"You will be given a sentence.\n",
    "                                                Your task is to write a new sentence that is a paraphrase similar to the original one. \n",
    "                                                It should keep the same meaning but using some different words.\n",
    "                                                Make sure that the original and the new sentence share at least 3 content words.\n",
    "                                                Sentence: {ground_truth}\n",
    "                                                Please output only the new sentence. \n",
    "                                            \"\"\",\n",
    "\n",
    "\"prompt_correct_different\" : \"\"\"You will be given a sentence.\n",
    "                                                Your task is to write a new sentence that is a paraphrase completely different to the original one. \n",
    "                                                It should keep the same meaning but using completely different words.\n",
    "                                                Make sure that the original and the new sentence do not have any content word in common, not even 1.\n",
    "                                                \n",
    "                                                Example 1:\n",
    "                                                Original sentence: The car-trained network showed a drop in performance for inverted versus upright cars. \n",
    "                                                New sentence: This CNN demonstrated decreased behavior with upside-down items in comparison to those oriented correctly.\n",
    "\n",
    "                                                Example 2:\n",
    "                                                Original sentence: This paper tries to demonstrate, first, that the behavioral signatures associated to human face recognition can be explained as a result of the optimization of the task. Also, they show that it is not so “special”, as this behavior can be found in CNNs trained to recognize other objects (like cars). \n",
    "                                                New sentence: This article aims to demonstrate that the distinct characteristics linked to recognizing people’s visages may stem from enhancement of the activity. Furthermore, it illustrates that this pattern is not unique, as similar ones occur in neural networks developed to identify different items, such as vehicles.\n",
    "\n",
    "                                                Your task:\n",
    "                                                Original sentence: {ground_truth} \n",
    "                                                New sentence:\n",
    "\n",
    "                                                Please output only the new sentence.\"\"\",\n",
    "\n",
    "\"prompt_incorrect_similar\" : \"\"\"You will be provided a sentence.\n",
    "                                    Your objective is to modify this sentence slightly so that it becomes incorrect or nonsensical.\n",
    "\n",
    "                                    Example 1:\n",
    "                                    Original sentence: The car-trained network showed a drop in performance for inverted versus upright cars. \n",
    "                                    New sentence: The car-trained network showed an increase in performance for inverted versus upright cars. \n",
    "                                    Example 2:\n",
    "                                    Original sentence: The authores utilize deep convolutional neural networks (CNNs) on their experiments.\n",
    "                                    New sentence: The authores utilize deep recurrent neural networks (CNNs) on their experiments.         \n",
    "\n",
    "                                    Sentence: {ground_truth}\n",
    "\n",
    "                                    Please output only the new sentence.\n",
    "                                    \"\"\",\n",
    "\n",
    "\"prompt_incorrect_related\" : \"\"\"You will be provided a sentence.\n",
    "                                    Your task is to write a new short sentence on the topic of the original one but with different information.\n",
    "\n",
    "                                    Example 1:\n",
    "                                    Original sentence: The car-trained network showed a drop in performance for inverted versus upright cars. \n",
    "                                    New sentence: The inverted versus upright effect is a very popular phenomena investigated on the field of Computer Vision. \n",
    "                                    Example 2:\n",
    "                                    Original sentence: The authores utilize deep convolutional neural networks (CNNs) on their experiments.\n",
    "                                    New sentence: Deep convolutional neural networks (CNNs) are widely use on scientific research.\n",
    "\n",
    "\n",
    "                                    Sentence: {ground_truth}\n",
    "                                    Please output only the new sentence.\n",
    "                                    \"\"\",\n",
    "\"prompt_validate_question\" : \"\"\"You will be given a context and a question. Your task is to categorize the question according to the types listed below, based solely on the relationship between the question and the provided context.\n",
    "                Fact Checking: the answer is a composition based on only one substring of the context, that can be used directly as it is written in the context.\n",
    "                Reasoning: answer is a composition based on a more elaborated understanding made from more than one substring of the context.  substrings can not be used exactly as they are written, it requires a deeper understanding of the content.\n",
    "                Unrelated: the answer cannot be derived from the context provided.\n",
    "                Context: {abstract}\n",
    "                Question: {question}\n",
    "                Please provide only the category name of the question based on the definitions provided.\"\"\",\n",
    "\n",
    "\"prompt_validate_incorrect\" : \"\"\"You will be presented with a question, its correct answer, and a candidate sentence. Your task is to categorize the candidate sentence based on how it relates to the correct answer and the content of the question. Choose from the categories below:\n",
    "\n",
    "                    Incorrect Similar: The sentence resembles the correct answer but contains incorrect information or misinterpretations.\n",
    "                    Incorrect Related: The sentence is topically related to the question but does not address or correctly answer it.\n",
    "                    Incorrect Unrelated: The sentence has no relevance to the topic or context of the question.\n",
    "                    Rigth: The sentence is a possible rigth answer to the question.\n",
    "\n",
    "                    Question: {question}\n",
    "                    Correct Answer: {ground_truth}\n",
    "                    Candidate Sentence: {answer}\n",
    "\n",
    "                    Please provide only the category name for the candidate sentence based on the definitions provided.\"\"\",}"
   ]
  },
  {
   "cell_type": "code",
   "execution_count": 31,
   "metadata": {},
   "outputs": [],
   "source": [
    "pair_generator = GenerateCompletePair(llm_client_meta, prompts)"
   ]
  },
  {
   "cell_type": "code",
   "execution_count": 32,
   "metadata": {},
   "outputs": [],
   "source": [
    "pair = pair_generator.generate_complete_pair(abstract, \"fact_checking\")"
   ]
  },
  {
   "cell_type": "code",
   "execution_count": 33,
   "metadata": {},
   "outputs": [
    {
     "name": "stdout",
     "output_type": "stream",
     "text": [
      "QAPair(question='What is the average length of machine-generated summaries in the study?', ground_truth='The average length of machine-generated summaries in the study is 3.4 sentences.', correct_similar='The study reveals that the typical machine-generated summaries consist of 3.4 sentences on average.', correct_different='The research reveals that the typical duration of automated abstracts in the analysis corresponds to approximately four brief paragraphs.', incorrect_similar='The average length of machine-generated summaries in the study is 3.4 kilograms.', incorrect_related='Most machine-generated summaries aim to provide concise information to readers.', incorrect_unrelated=None)\n"
     ]
    }
   ],
   "source": [
    "print(pair)"
   ]
  },
  {
   "cell_type": "markdown",
   "metadata": {},
   "source": [
    "FULL DATA"
   ]
  },
  {
   "cell_type": "code",
   "execution_count": 34,
   "metadata": {},
   "outputs": [],
   "source": [
    "sensitivity_data_generator = SensitivityDatasetGenerator(llm_client_meta, pubmed_apikey, prompts)"
   ]
  },
  {
   "cell_type": "code",
   "execution_count": 35,
   "metadata": {},
   "outputs": [],
   "source": [
    "querys = [\"heart\", \"neural\", \"eye\"]"
   ]
  },
  {
   "cell_type": "code",
   "execution_count": 36,
   "metadata": {},
   "outputs": [
    {
     "name": "stdout",
     "output_type": "stream",
     "text": [
      "Working with query: heart\n"
     ]
    },
    {
     "name": "stdout",
     "output_type": "stream",
     "text": [
      "Working with abstract: 0\n",
      "A fact checking set was created.\n",
      "A reasoning set was created.\n",
      "Working with query: neural\n",
      "Working with abstract: 1\n",
      "A fact checking set was created.\n",
      "A reasoning set was created.\n",
      "Working with query: eye\n",
      "Working with abstract: 2\n",
      "A fact checking set was created.\n",
      "A reasoning set was created.\n",
      "All the answers' sets were successfully created.\n",
      "Adding Incorrect Unrelated.\n"
     ]
    }
   ],
   "source": [
    "full_df, abstracts = sensitivity_data_generator.generate_sensitivity_dataset(querys, abs_per_query= 1,question_per_abs=2)"
   ]
  },
  {
   "cell_type": "code",
   "execution_count": 38,
   "metadata": {},
   "outputs": [
    {
     "data": {
      "text/html": [
       "<div>\n",
       "<style scoped>\n",
       "    .dataframe tbody tr th:only-of-type {\n",
       "        vertical-align: middle;\n",
       "    }\n",
       "\n",
       "    .dataframe tbody tr th {\n",
       "        vertical-align: top;\n",
       "    }\n",
       "\n",
       "    .dataframe thead th {\n",
       "        text-align: right;\n",
       "    }\n",
       "</style>\n",
       "<table border=\"1\" class=\"dataframe\">\n",
       "  <thead>\n",
       "    <tr style=\"text-align: right;\">\n",
       "      <th></th>\n",
       "      <th>query</th>\n",
       "      <th>abstract_id</th>\n",
       "      <th>question_type</th>\n",
       "      <th>question</th>\n",
       "      <th>ground_truth</th>\n",
       "      <th>correct_similar</th>\n",
       "      <th>correct_different</th>\n",
       "      <th>incorrect_similar</th>\n",
       "      <th>incorrect_related</th>\n",
       "      <th>incorrect_unrelated</th>\n",
       "    </tr>\n",
       "  </thead>\n",
       "  <tbody>\n",
       "    <tr>\n",
       "      <th>0</th>\n",
       "      <td>heart</td>\n",
       "      <td>0</td>\n",
       "      <td>Fact Checking</td>\n",
       "      <td>What is the duration of preoperative prism ada...</td>\n",
       "      <td>The duration of preoperative prism adaptation ...</td>\n",
       "      <td>The present study examines the 4-week period o...</td>\n",
       "      <td>The length of time examined in this study for ...</td>\n",
       "      <td>The duration of preoperative prism adaptation ...</td>\n",
       "      <td>Researchers have found that the optimal durati...</td>\n",
       "      <td>Accurately recognizing low-prognosis risk pati...</td>\n",
       "    </tr>\n",
       "    <tr>\n",
       "      <th>1</th>\n",
       "      <td>heart</td>\n",
       "      <td>0</td>\n",
       "      <td>Reasoning</td>\n",
       "      <td>What potential benefits does the 4-week preope...</td>\n",
       "      <td>The 4-week preoperative prism adaptation (PPA)...</td>\n",
       "      <td>The 4-week pre-surgical prism therapy (PST) of...</td>\n",
       "      <td>This brief, four-phase preparatory treatment o...</td>\n",
       "      <td>The 4-week postoperative prism adaptation (PPA...</td>\n",
       "      <td>Researchers have identified prism adaptation a...</td>\n",
       "      <td>This study's use of federated learning technol...</td>\n",
       "    </tr>\n",
       "    <tr>\n",
       "      <th>2</th>\n",
       "      <td>neural</td>\n",
       "      <td>1</td>\n",
       "      <td>Fact Checking</td>\n",
       "      <td>What is the significance of accurately recogni...</td>\n",
       "      <td>Accurately recognizing low-prognosis risk pati...</td>\n",
       "      <td>Identifying high-risk patients with acute pulm...</td>\n",
       "      <td>Identifying individuals with a high likelihood...</td>\n",
       "      <td>Accurately recognizing high-prognosis risk pat...</td>\n",
       "      <td>Early diagnosis of acute pulmonary thromboembo...</td>\n",
       "      <td>The duration of preoperative prism adaptation ...</td>\n",
       "    </tr>\n",
       "    <tr>\n",
       "      <th>3</th>\n",
       "      <td>neural</td>\n",
       "      <td>1</td>\n",
       "      <td>Reasoning</td>\n",
       "      <td>what implications does this have for the devel...</td>\n",
       "      <td>This study's use of federated learning technol...</td>\n",
       "      <td>The application of federated learning technolo...</td>\n",
       "      <td>This research leverages decentralized machine ...</td>\n",
       "      <td>This study's use of federated baking technolog...</td>\n",
       "      <td>The application of federated learning in healt...</td>\n",
       "      <td>The 4-week preoperative prism adaptation (PPA)...</td>\n",
       "    </tr>\n",
       "    <tr>\n",
       "      <th>4</th>\n",
       "      <td>eye</td>\n",
       "      <td>2</td>\n",
       "      <td>Fact Checking</td>\n",
       "      <td>What is the purpose of school screenings in re...</td>\n",
       "      <td>The purpose of school screenings is to identif...</td>\n",
       "      <td>The goal of school-based vision tests is to de...</td>\n",
       "      <td>The goal of educational health checks is to de...</td>\n",
       "      <td>The purpose of school screenings is to identif...</td>\n",
       "      <td>Regular eye exams are crucial for early detect...</td>\n",
       "      <td>The duration of preoperative prism adaptation ...</td>\n",
       "    </tr>\n",
       "    <tr>\n",
       "      <th>5</th>\n",
       "      <td>eye</td>\n",
       "      <td>2</td>\n",
       "      <td>Reasoning</td>\n",
       "      <td>What might be some potential limitations or co...</td>\n",
       "      <td>Some potential limitations or consequences of ...</td>\n",
       "      <td>Relying exclusively on school-based vision tes...</td>\n",
       "      <td>This approach may entail drawbacks, including ...</td>\n",
       "      <td>Here is the modified sentence:\\n\\nSome potenti...</td>\n",
       "      <td>Vision problems in children can have a signifi...</td>\n",
       "      <td>The 4-week preoperative prism adaptation (PPA)...</td>\n",
       "    </tr>\n",
       "  </tbody>\n",
       "</table>\n",
       "</div>"
      ],
      "text/plain": [
       "    query  abstract_id  question_type  \\\n",
       "0   heart            0  Fact Checking   \n",
       "1   heart            0      Reasoning   \n",
       "2  neural            1  Fact Checking   \n",
       "3  neural            1      Reasoning   \n",
       "4     eye            2  Fact Checking   \n",
       "5     eye            2      Reasoning   \n",
       "\n",
       "                                            question  \\\n",
       "0  What is the duration of preoperative prism ada...   \n",
       "1  What potential benefits does the 4-week preope...   \n",
       "2  What is the significance of accurately recogni...   \n",
       "3  what implications does this have for the devel...   \n",
       "4  What is the purpose of school screenings in re...   \n",
       "5  What might be some potential limitations or co...   \n",
       "\n",
       "                                        ground_truth  \\\n",
       "0  The duration of preoperative prism adaptation ...   \n",
       "1  The 4-week preoperative prism adaptation (PPA)...   \n",
       "2  Accurately recognizing low-prognosis risk pati...   \n",
       "3  This study's use of federated learning technol...   \n",
       "4  The purpose of school screenings is to identif...   \n",
       "5  Some potential limitations or consequences of ...   \n",
       "\n",
       "                                     correct_similar  \\\n",
       "0  The present study examines the 4-week period o...   \n",
       "1  The 4-week pre-surgical prism therapy (PST) of...   \n",
       "2  Identifying high-risk patients with acute pulm...   \n",
       "3  The application of federated learning technolo...   \n",
       "4  The goal of school-based vision tests is to de...   \n",
       "5  Relying exclusively on school-based vision tes...   \n",
       "\n",
       "                                   correct_different  \\\n",
       "0  The length of time examined in this study for ...   \n",
       "1  This brief, four-phase preparatory treatment o...   \n",
       "2  Identifying individuals with a high likelihood...   \n",
       "3  This research leverages decentralized machine ...   \n",
       "4  The goal of educational health checks is to de...   \n",
       "5  This approach may entail drawbacks, including ...   \n",
       "\n",
       "                                   incorrect_similar  \\\n",
       "0  The duration of preoperative prism adaptation ...   \n",
       "1  The 4-week postoperative prism adaptation (PPA...   \n",
       "2  Accurately recognizing high-prognosis risk pat...   \n",
       "3  This study's use of federated baking technolog...   \n",
       "4  The purpose of school screenings is to identif...   \n",
       "5  Here is the modified sentence:\\n\\nSome potenti...   \n",
       "\n",
       "                                   incorrect_related  \\\n",
       "0  Researchers have found that the optimal durati...   \n",
       "1  Researchers have identified prism adaptation a...   \n",
       "2  Early diagnosis of acute pulmonary thromboembo...   \n",
       "3  The application of federated learning in healt...   \n",
       "4  Regular eye exams are crucial for early detect...   \n",
       "5  Vision problems in children can have a signifi...   \n",
       "\n",
       "                                 incorrect_unrelated  \n",
       "0  Accurately recognizing low-prognosis risk pati...  \n",
       "1  This study's use of federated learning technol...  \n",
       "2  The duration of preoperative prism adaptation ...  \n",
       "3  The 4-week preoperative prism adaptation (PPA)...  \n",
       "4  The duration of preoperative prism adaptation ...  \n",
       "5  The 4-week preoperative prism adaptation (PPA)...  "
      ]
     },
     "execution_count": 38,
     "metadata": {},
     "output_type": "execute_result"
    }
   ],
   "source": [
    "full_df"
   ]
  },
  {
   "cell_type": "code",
   "execution_count": 39,
   "metadata": {},
   "outputs": [
    {
     "data": {
      "text/plain": [
       "{0: 'Preoperative prism adaptation (PPA) simulates postoperative status and possibly can predict postoperative undercorrection before surgery in esotropia. The present study aimed to assess the effect of 4-week PPA in preventing postoperative residual esotropia.',\n",
       " 1: 'Acute pulmonary thromboembolism (PTE) is a common cardiovascular disease and recognizing low prognosis risk patients with PTE accurately is significant for clinical treatment. This study evaluated the value of federated learning (FL) technology in PTE prognosis risk assessment while ensuring the security of clinical data.',\n",
       " 2: 'Although school screenings identify children with vision problems and issue referrals for medical treatment at an ophthalmic hospital, the effectiveness of this approach remains unverified.'}"
      ]
     },
     "execution_count": 39,
     "metadata": {},
     "output_type": "execute_result"
    }
   ],
   "source": [
    "abstracts"
   ]
  }
 ],
 "metadata": {
  "kernelspec": {
   "display_name": "Python 3",
   "language": "python",
   "name": "python3"
  },
  "language_info": {
   "codemirror_mode": {
    "name": "ipython",
    "version": 3
   },
   "file_extension": ".py",
   "mimetype": "text/x-python",
   "name": "python",
   "nbconvert_exporter": "python",
   "pygments_lexer": "ipython3",
   "version": "3.10.12"
  }
 },
 "nbformat": 4,
 "nbformat_minor": 2
}
