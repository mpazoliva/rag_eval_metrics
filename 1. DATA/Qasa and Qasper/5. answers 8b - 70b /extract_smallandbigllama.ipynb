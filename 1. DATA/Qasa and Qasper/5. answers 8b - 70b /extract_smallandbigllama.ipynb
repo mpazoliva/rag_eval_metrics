{
 "cells": [
  {
   "cell_type": "code",
   "execution_count": 1,
   "metadata": {},
   "outputs": [],
   "source": [
    "import json\n",
    "import pandas as pd"
   ]
  },
  {
   "cell_type": "code",
   "execution_count": 2,
   "metadata": {},
   "outputs": [],
   "source": [
    "# Load and read .json file as pandas df\n",
    "json_file_path = '/home/ubuntu/iris_repos/llm_evaluation_thesis/data/Qasa and Qasper/5. small and big answers/maria_results_qasper.json'  \n",
    "\n",
    "with open(json_file_path, 'r') as f:\n",
    "    json_data = json.load(f)\n"
   ]
  },
  {
   "cell_type": "code",
   "execution_count": 3,
   "metadata": {},
   "outputs": [],
   "source": [
    "# Creating DataFrame for \"llama-3.1-70b-versatile\"\n",
    "df_70b = pd.DataFrame(json_data[\"llama-3.1-70b-versatile\"])\n",
    "df_70b = df_70b[[\"question\", \"correct_answer\", \"context\", \"groq_answer\"]]\n",
    "df_70b.rename(columns={\"groq_answer\": \"answer_70b\"}, inplace=True)\n",
    "\n",
    "# Creating DataFrame for \"llama-3.1-8b-instant\"\n",
    "df_8b = pd.DataFrame(json_data[\"llama-3.1-8b-instant\"])\n",
    "df_8b = df_8b[[\"question\", \"correct_answer\", \"context\", \"groq_answer\"]]\n",
    "df_8b.rename(columns={\"groq_answer\": \"answer_8b\"}, inplace=True)"
   ]
  },
  {
   "cell_type": "code",
   "execution_count": 5,
   "metadata": {},
   "outputs": [],
   "source": [
    "df_8b.to_csv('/home/ubuntu/iris_repos/llm_evaluation_thesis/data/Qasa and Qasper/5. small and big answers/qasper_8b.csv', index=False)"
   ]
  }
 ],
 "metadata": {
  "kernelspec": {
   "display_name": "Python 3",
   "language": "python",
   "name": "python3"
  },
  "language_info": {
   "codemirror_mode": {
    "name": "ipython",
    "version": 3
   },
   "file_extension": ".py",
   "mimetype": "text/x-python",
   "name": "python",
   "nbconvert_exporter": "python",
   "pygments_lexer": "ipython3",
   "version": "3.10.12"
  }
 },
 "nbformat": 4,
 "nbformat_minor": 2
}
